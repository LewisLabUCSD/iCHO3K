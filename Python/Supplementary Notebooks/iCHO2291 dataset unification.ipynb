{
 "cells": [
  {
   "cell_type": "markdown",
   "id": "f3169803",
   "metadata": {},
   "source": [
    "## Unification of the iCHO2291 datasets\n",
    "\n",
    "A dataset created from the iCHO2291 xml file and the excell file provided as Supplementary data have been unified  in order to have information from both dataset (i.e. forward and reverse kcat from the excel file and GPR reaction formula from the excell)"
   ]
  },
  {
   "cell_type": "code",
   "execution_count": null,
   "id": "0483b37e",
   "metadata": {},
   "outputs": [],
   "source": [
    "import pandas as pd\n",
    "import cobra\n",
    "from cobra.io import read_sbml_model\n",
    "from tqdm.notebook import tqdm"
   ]
  },
  {
   "cell_type": "code",
   "execution_count": null,
   "id": "d18281f2",
   "metadata": {},
   "outputs": [],
   "source": [
    "# Load iCHO2291 excell file provided as supplementary data\n",
    "df1 = pd.read_excel('../../Data/Reconciliation/datasets/iCHO2291.xlsx', 'Data S2')\n",
    "df1"
   ]
  },
  {
   "cell_type": "code",
   "execution_count": null,
   "id": "bb12170f",
   "metadata": {},
   "outputs": [],
   "source": [
    "# Read the iCHO2291 model from https://www.ebi.ac.uk/biomodels/ using the cobrapy library\n",
    "model = read_sbml_model('../../Data/Reconciliation/models/iCHO2291.xml')\n",
    "\n",
    "# Create dataframe from the model with the attributes that we are interested in\n",
    "attributes = []\n",
    "for reaction in tqdm(model.reactions):\n",
    "    attributes.append([reaction.id, reaction.name, reaction.reaction, reaction.gpr, \n",
    "                       reaction.subsystem, reaction.lower_bound, reaction.upper_bound])\n",
    "\n",
    "df2 = pd.DataFrame(data=attributes, columns=['Reaction', 'Reaction Name', 'Reaction Formula', 'GPR', 'Subsystem', 'Lower bound', 'Upper bound'])\n",
    "df2"
   ]
  },
  {
   "cell_type": "code",
   "execution_count": null,
   "id": "5d41c376",
   "metadata": {},
   "outputs": [],
   "source": [
    "model"
   ]
  },
  {
   "cell_type": "markdown",
   "id": "922b8206",
   "metadata": {},
   "source": [
    "### Both dfs has the same amount of reactions but differen info in the columns"
   ]
  },
  {
   "cell_type": "code",
   "execution_count": null,
   "id": "09612ad1",
   "metadata": {},
   "outputs": [],
   "source": [
    "# Unify number of columns\n",
    "df1.rename(columns = {'Rxn':'Reaction', 'Subsystem (iCHO2291)':'Subsystem'}, inplace = True)\n",
    "df1 = df1.reindex(columns = df1.columns.tolist() + ['Reaction Name','Reaction Formula','Lower bound','Upper bound'])\n",
    "df1.drop(columns=['Subsystem (iCHO1766)'])\n",
    "df2 = df2.reindex(columns = df2.columns.tolist() + ['Proteins','EC Number','Mol wt','kcat_forward','kcat_backward'])\n",
    "\n",
    "\n",
    "# Unify order of columns\n",
    "df1 = df1[['Reaction', 'Reaction Name', 'Reaction Formula', 'GPR', 'Subsystem', 'Lower bound', 'Upper bound', 'Proteins','EC Number','Mol wt','kcat_forward','kcat_backward']]\n",
    "df2 = df2[['Reaction', 'Reaction Name', 'Reaction Formula', 'GPR', 'Subsystem', 'Lower bound', 'Upper bound', 'Proteins','EC Number','Mol wt','kcat_forward','kcat_backward']]"
   ]
  },
  {
   "cell_type": "code",
   "execution_count": null,
   "id": "2400a0c9",
   "metadata": {},
   "outputs": [],
   "source": [
    "# Merge both datasets \n",
    "iCHO2291 = pd.concat([df2, df1])\n",
    "iCHO2291 = iCHO2291.groupby('Reaction').first()\n",
    "iCHO2291 = iCHO2291.reset_index()\n",
    "iCHO2291.rename(columns = {'GPR':'GPR_yeo'}, inplace = True)\n",
    "\n",
    "iCHO2291.to_excel('../../Data/Reconciliation/datasets/iCHO2291_final.xlsx')"
   ]
  }
 ],
 "metadata": {
  "kernelspec": {
   "display_name": "Python 3 (ipykernel)",
   "language": "python",
   "name": "python3"
  },
  "language_info": {
   "codemirror_mode": {
    "name": "ipython",
    "version": 3
   },
   "file_extension": ".py",
   "mimetype": "text/x-python",
   "name": "python",
   "nbconvert_exporter": "python",
   "pygments_lexer": "ipython3",
   "version": "3.10.8"
  }
 },
 "nbformat": 4,
 "nbformat_minor": 5
}
