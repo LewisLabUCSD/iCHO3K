{
 "cells": [
  {
   "cell_type": "markdown",
   "id": "f3169803",
   "metadata": {},
   "source": [
    "## Generation iCHO2101 from Supplementary Data\n",
    "\n",
    "Here we create a model from the data provided as supplementary material. This model will be used for comparison purposes with our new reconstruction and previus reconstructions"
   ]
  },
  {
   "cell_type": "code",
   "execution_count": null,
   "id": "0483b37e",
   "metadata": {},
   "outputs": [],
   "source": [
    "import pandas as pd\n",
    "from cobra import Model, Reaction, Metabolite\n",
    "from cobra.io import save_json_model\n",
    "from tqdm.notebook import tqdm"
   ]
  },
  {
   "cell_type": "code",
   "execution_count": null,
   "id": "d18281f2",
   "metadata": {},
   "outputs": [],
   "source": [
    "# Load iCHO2101 excell file provided as supplementary data\n",
    "iCHO2101_df = pd.read_excel('../../Data/Reconciliation/datasets/iCHO2101.xlsx', 'Supplementary Table 10', header = 1)\n",
    "iCHO2101_df"
   ]
  },
  {
   "cell_type": "code",
   "execution_count": null,
   "id": "bb12170f",
   "metadata": {
    "tags": []
   },
   "outputs": [],
   "source": [
    "# Generate a model from the dataset\n",
    "iCHO2101_model = Model(\"iCHO2101\")\n",
    "lr = []\n",
    "for _, row in iCHO2101_df.iterrows():\n",
    "    r = Reaction(row['Abbreviation'])\n",
    "    lr.append(r)    \n",
    "iCHO2101_model.add_reactions(lr)\n",
    "\n",
    "for i,r in enumerate(tqdm(iCHO2101_model.reactions)):    \n",
    "    r.build_reaction_from_string(iCHO2101_df['Reaction'][i])\n",
    "    r.name = iCHO2101_df['Description'][i]\n",
    "    r.subsystem = iCHO2101_df['Subsystem'][i]\n",
    "    r.gene_reaction_rule = str(iCHO2101_df['GPR'][i])\n",
    "    r.lower_bound = float(iCHO2101_df['Lower bound'][i])\n",
    "    r.upper_bound = float(iCHO2101_df['Upper bound'][i])"
   ]
  },
  {
   "cell_type": "code",
   "execution_count": null,
   "id": "5d41c376",
   "metadata": {},
   "outputs": [],
   "source": [
    "# Save the model as a json file\n",
    "save_json_model(iCHO2101_model, '../../Data/Reconciliation/models/iCHO2101.json')"
   ]
  }
 ],
 "metadata": {
  "kernelspec": {
   "display_name": "Python 3 (ipykernel)",
   "language": "python",
   "name": "python3"
  },
  "language_info": {
   "codemirror_mode": {
    "name": "ipython",
    "version": 3
   },
   "file_extension": ".py",
   "mimetype": "text/x-python",
   "name": "python",
   "nbconvert_exporter": "python",
   "pygments_lexer": "ipython3",
   "version": "3.10.8"
  }
 },
 "nbformat": 4,
 "nbformat_minor": 5
}
