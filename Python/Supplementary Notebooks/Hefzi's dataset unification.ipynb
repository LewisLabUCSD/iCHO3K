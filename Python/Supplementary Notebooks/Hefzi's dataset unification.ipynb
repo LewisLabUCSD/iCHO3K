{
 "cells": [
  {
   "cell_type": "markdown",
   "id": "f3169803",
   "metadata": {},
   "source": [
    "## Unification of the datasets provided by Hooman's paper\n",
    "\n",
    "A dataset created from the iCHOv1 xml file and the excell file provided as Supplementary data have been unified  in order to have information from both dataset (i.e. lower and upper bound from the xml file and notes from the excell)"
   ]
  },
  {
   "cell_type": "code",
   "execution_count": null,
   "id": "0483b37e",
   "metadata": {},
   "outputs": [],
   "source": [
    "import pandas as pd\n",
    "import cobra\n",
    "from cobra.io import read_sbml_model\n",
    "from cobra.util import create_stoichiometric_matrix\n",
    "from tqdm.notebook import tqdm"
   ]
  },
  {
   "cell_type": "code",
   "execution_count": null,
   "id": "d18281f2",
   "metadata": {},
   "outputs": [],
   "source": [
    "# Load Hefzi's dataset\n",
    "df1 = pd.read_excel('../../Data/Reconciliation/datasets/iCHOv1_Reconstruction.xlsx', header = 1)\n",
    "df1"
   ]
  },
  {
   "cell_type": "code",
   "execution_count": null,
   "id": "bb12170f",
   "metadata": {},
   "outputs": [],
   "source": [
    "# Read the model using the cobrapy library\n",
    "model = read_sbml_model('../../Data/reconciliation/models/iCHOv1_final.xml')\n",
    "\n",
    "# Create dataframe from the model with the attributes that we are interested in\n",
    "attributes = []\n",
    "for reaction in tqdm(model.reactions):\n",
    "    attributes.append([reaction.id, reaction.name, reaction.reaction, reaction.gpr, \n",
    "                       reaction.subsystem, reaction.lower_bound, reaction.upper_bound])\n",
    "\n",
    "df2 = pd.DataFrame(data=attributes, columns=['Reaction', 'Reaction Name', 'Reaction Formula', 'GPR', 'Subsystem', 'Lower bound', 'Upper bound'])\n",
    "df2"
   ]
  },
  {
   "cell_type": "code",
   "execution_count": null,
   "id": "701473c1",
   "metadata": {},
   "outputs": [],
   "source": [
    "model"
   ]
  },
  {
   "cell_type": "markdown",
   "id": "922b8206",
   "metadata": {},
   "source": [
    "### df1 has 3229 reactions while df2 contains 6663 reactions"
   ]
  },
  {
   "cell_type": "code",
   "execution_count": null,
   "id": "09612ad1",
   "metadata": {},
   "outputs": [],
   "source": [
    "# Unify number of columns\n",
    "df1 = df1.reindex(columns = df1.columns.tolist() + ['Lower bound','Upper bound'])\n",
    "df2 = df2.reindex(columns = df2.columns.tolist() + ['Curation Notes','References'])\n",
    "\n",
    "# Unify order of columns\n",
    "df1 = df1[['Reaction', 'Reaction Name', 'Reaction Formula', 'GPR', 'Subsystem', 'Lower bound', 'Upper bound', 'Curation Notes', 'References']]\n",
    "df2 = df2[['Reaction', 'Reaction Name', 'Reaction Formula', 'GPR', 'Subsystem', 'Lower bound', 'Upper bound', 'Curation Notes', 'References']]"
   ]
  },
  {
   "cell_type": "code",
   "execution_count": null,
   "id": "2400a0c9",
   "metadata": {},
   "outputs": [],
   "source": [
    "# Merge both datasets \n",
    "hefzi_df = pd.concat([df2, df1])\n",
    "hefzi_final = hefzi_df.groupby('Reaction').first()\n",
    "hefzi_final = hefzi_final.reset_index()\n",
    "hefzi_final.rename(columns = {'GPR':'GPR_hef'}, inplace = True)\n",
    "\n",
    "hefzi_final.to_excel('../../Data/Reconciliation/datasets/hefzi_final.xlsx')"
   ]
  }
 ],
 "metadata": {
  "kernelspec": {
   "display_name": "Python 3 (ipykernel)",
   "language": "python",
   "name": "python3"
  },
  "language_info": {
   "codemirror_mode": {
    "name": "ipython",
    "version": 3
   },
   "file_extension": ".py",
   "mimetype": "text/x-python",
   "name": "python",
   "nbconvert_exporter": "python",
   "pygments_lexer": "ipython3",
   "version": "3.10.8"
  }
 },
 "nbformat": 4,
 "nbformat_minor": 5
}
