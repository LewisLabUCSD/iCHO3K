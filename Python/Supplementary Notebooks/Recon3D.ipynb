{
 "cells": [
  {
   "cell_type": "markdown",
   "id": "a0d39903",
   "metadata": {},
   "source": [
    "# Recon 3D CHO GPRs\n",
    "## Description\n",
    "This notebook describes the process by which we can mine information from Recon3D to add it to our reconstruction in CHO cells. First we map all the CHO GPRs corresponding to the Recon3D Human GPRs and a dataset containing all the reactions from Recon3D with their corresponding CHO GPRs is generated (1), then a dataset containing reactions from Recon3D that are not present in our reconstruction, along with annotated CHO GPRs, is generated in order to add it to our reconstruction (2)."
   ]
  },
  {
   "cell_type": "code",
   "execution_count": null,
   "id": "69c24edf",
   "metadata": {},
   "outputs": [],
   "source": [
    "import pandas as pd\n",
    "import numpy as np\n",
    "from tqdm.notebook import tqdm\n",
    "\n",
    "import cobra\n",
    "from cobra.io.mat import load_matlab_model\n",
    "\n",
    "import gspread"
   ]
  },
  {
   "cell_type": "markdown",
   "id": "067d6824",
   "metadata": {},
   "source": [
    "### 1. Finding CHO orthologs for Human GPRs in Recon3D\n",
    "Using the dataset generated in the **Orthologs** notebook, we can map all the CHO genes in the recon 3D dataset GPR column and generate a new column called \"CHO GPR\""
   ]
  },
  {
   "cell_type": "code",
   "execution_count": null,
   "id": "5cb25025",
   "metadata": {},
   "outputs": [],
   "source": [
    "#Generate recon3d df from the recon3d supplementary data\n",
    "df1 = pd.read_excel('../../Data/GPR_Curation/recon3d_gprs.xlsx')\n",
    "df1"
   ]
  },
  {
   "cell_type": "code",
   "execution_count": null,
   "id": "dd88f21c",
   "metadata": {},
   "outputs": [],
   "source": [
    "#Generate another df from the recon3d model\n",
    "recon3d_model = load_matlab_model('../../Data/GPR_Curation/Recon3D_301.mat')\n",
    "recon3d_model"
   ]
  },
  {
   "cell_type": "code",
   "execution_count": null,
   "id": "c75d663f",
   "metadata": {},
   "outputs": [],
   "source": [
    "#Generate another df from the recon3d model\n",
    "attributes = []\n",
    "for reaction in tqdm(recon3d_model.reactions):\n",
    "    attributes.append([reaction.id, reaction.name, reaction.reaction, reaction.gpr, \n",
    "                       reaction.subsystem, reaction.lower_bound, reaction.upper_bound])\n",
    "\n",
    "df2 = pd.DataFrame(data=attributes, columns=['m_reaction', 'Reaction Name', 'm_metabolites', 'm_gene_reaction_rule', 'm_subsystem', 'Lower bound', 'Upper bound'])\n",
    "df2['m_reaction'] = df2['m_reaction'].str.replace(\"[\", \"_\")\n",
    "df2['m_reaction'] = df2['m_reaction'].str.replace(\"]\", \"\")\n",
    "df2"
   ]
  },
  {
   "cell_type": "code",
   "execution_count": null,
   "id": "6d2f1559",
   "metadata": {},
   "outputs": [],
   "source": [
    "# Unify df1 and df2 into one dataset containing all the necesary information\n",
    "recon3d = pd.concat([df2, df1])\n",
    "recon3d = recon3d.groupby('m_reaction').first()\n",
    "recon3d = recon3d.reset_index(drop = False)\n",
    "recon3d['m_reaction'] = recon3d['m_reaction'].str.replace('_hs$', '', regex=True) # Erase the _hs at the end of the reaction IDs\n",
    "recon3d['m_gene_reaction_rule'] = recon3d['m_gene_reaction_rule'].replace(np.nan,'',regex=True)\n",
    "recon3d.to_excel('../../Data/Reconciliation/datasets/recon3D_all_reactions.xlsx')"
   ]
  },
  {
   "cell_type": "code",
   "execution_count": null,
   "id": "bbab91d1",
   "metadata": {},
   "outputs": [],
   "source": [
    "# Generate orthologs dict from the dataset generated in the Orthologs notebook\n",
    "orthologs = pd.read_excel('../../Data/GPR_Curation/orthologs.xlsx', dtype=str)\n",
    "orthologs.fillna('', inplace=True)\n",
    "orthologs_dict = orthologs.set_index('Human GeneID')['CHO GeneID'].to_dict()\n",
    "orthologs_dict"
   ]
  },
  {
   "cell_type": "code",
   "execution_count": null,
   "id": "a06165a4",
   "metadata": {},
   "outputs": [],
   "source": [
    "# Extract GPR info from Recon3D and swap gene IDs from human to CHO\n",
    "import re\n",
    "cho_gpr = []\n",
    "\n",
    "for row in recon3d['m_gene_reaction_rule']:\n",
    "    row = str(row)\n",
    "    if row != \"\":\n",
    "        gpr = re.findall('[\\d.]*\\d+', row)\n",
    "        new_gpr = row\n",
    "        for g in gpr:\n",
    "            human_g = g.split('.')[0]\n",
    "            try:\n",
    "                cho_g = orthologs_dict[human_g]\n",
    "                if cho_g == '':\n",
    "                    cho_g = f'h{human_g}'\n",
    "            except:\n",
    "                cho_g = f'h{human_g}'\n",
    "            new_gpr = new_gpr.replace(g, cho_g)\n",
    "    elif row == '':\n",
    "        new_gpr = ''\n",
    "        \n",
    "    cho_gpr.append(new_gpr)"
   ]
  },
  {
   "cell_type": "code",
   "execution_count": null,
   "id": "191cbe4c",
   "metadata": {},
   "outputs": [],
   "source": [
    "cho_gpr"
   ]
  },
  {
   "cell_type": "code",
   "execution_count": null,
   "id": "3da8d0d1",
   "metadata": {},
   "outputs": [],
   "source": [
    "# Generate Recon3D dataset with the addition of GPR with CHO genes\n",
    "recon3d['CHO GPR'] = cho_gpr\n",
    "recon3d.to_excel('../../Data/GPR_Curation/recon3D_chogprs.xlsx')\n",
    "recon3d"
   ]
  },
  {
   "cell_type": "markdown",
   "id": "a6976fa7",
   "metadata": {},
   "source": [
    "The dataset generated here will then be used in the **Reactions** notebook **Part 6**"
   ]
  },
  {
   "cell_type": "markdown",
   "id": "91e8e076",
   "metadata": {},
   "source": [
    "### 2. Adittion of new reactions from Recon 3D\n",
    "Recon3D reactions with mapped CHO GPRs are added to our reconstruction"
   ]
  },
  {
   "cell_type": "code",
   "execution_count": null,
   "id": "a21463e8",
   "metadata": {},
   "outputs": [],
   "source": [
    "# Subset of Recon 3D dataset with information on CHO GPRs\n",
    "recon3d_cho = recon3d[recon3d['CHO GPR'] != '']\n",
    "recon3d_cho = recon3d_cho.reset_index(drop=True)"
   ]
  },
  {
   "cell_type": "code",
   "execution_count": null,
   "id": "a0aef670",
   "metadata": {},
   "outputs": [],
   "source": [
    "recon3d_cho['m_metabolites'] = recon3d_cho['m_metabolites'].str.replace(\"[\", \"_\", regex=True)\n",
    "recon3d_cho['m_metabolites'] = recon3d_cho['m_metabolites'].str.replace(\"]\", \"\", regex=True)\n",
    "recon3d_cho"
   ]
  },
  {
   "cell_type": "code",
   "execution_count": null,
   "id": "c7fab964",
   "metadata": {},
   "outputs": [],
   "source": [
    "#Retreive information from the reactions in our reconstruction in Google Sheets\n",
    "\n",
    "# give service account details to gspread\n",
    "sa = gspread.service_account(filename='../credentials.json')\n",
    "\n",
    "# sa is a gspread client, which can be used for connecting to the sheets\n",
    "# by using the open method and the sheet name.\n",
    "cho_recon = sa.open('CHO Network Reconstruction')\n",
    "\n",
    "# we also need to specify the page name before getting the data. In this case we use the Rxns and Metabolites sheet.\n",
    "rxns_sheet = cho_recon.worksheet('Rxns')\n",
    "\n",
    "# We can extract the data using the get_all_records method and create pd DataFrames\n",
    "\n",
    "# Reactions IDs, names, formulas, GPRs\n",
    "rxns = pd.DataFrame(rxns_sheet.get_all_records())\n",
    "del rxns[rxns.columns[0]]\n",
    "rxns"
   ]
  },
  {
   "cell_type": "code",
   "execution_count": null,
   "id": "f48e041f",
   "metadata": {},
   "outputs": [],
   "source": [
    "# List of all the reactions in our reconstruction\n",
    "cho_rxns_list = list(rxns['Reaction'])\n",
    "\n",
    "# List of all the reactions with CHO GPRs in Recon3D \n",
    "recon3D_rxns_list = list(recon3d_cho['m_reaction'])"
   ]
  },
  {
   "cell_type": "code",
   "execution_count": null,
   "id": "c235fffe",
   "metadata": {},
   "outputs": [],
   "source": [
    "# List of Recon3D reactions that are in our reconstruction\n",
    "rxns_in_cho = []\n",
    "\n",
    "# List of Recon3D reactions that are NOT in our reconstruction\n",
    "rxns_not_in_cho = []\n",
    "\n",
    "for rxn in recon3D_rxns_list:\n",
    "    if rxn in cho_rxns_list:\n",
    "        rxns_in_cho.append(rxn)\n",
    "    elif rxn not in cho_rxns_list:\n",
    "        rxns_not_in_cho.append(rxn)\n",
    "              "
   ]
  },
  {
   "cell_type": "code",
   "execution_count": null,
   "id": "efa26390",
   "metadata": {},
   "outputs": [],
   "source": [
    "# Generation of a dataset containing information about Recon3D reactions that are not in our reconstruction\n",
    "subset_df = recon3d_cho[recon3d_cho['m_reaction'].isin(rxns_not_in_cho)]\n",
    "subset_df"
   ]
  },
  {
   "cell_type": "code",
   "execution_count": null,
   "id": "79f64e0f",
   "metadata": {},
   "outputs": [],
   "source": [
    "#This dataset contains all the reactions added from Recon 3D\n",
    "\n",
    "rxns_recon3d_toadd = subset_df[['m_reaction', 'Reaction Name', 'm_metabolites', 'm_subsystem', 'CHO GPR', 'Lower bound', 'Upper bound']]\n",
    "rxns_recon3d_toadd.to_excel('../../Data/Reconciliation/datasets/rxns_recon3d_toadd.xlsx')"
   ]
  },
  {
   "cell_type": "code",
   "execution_count": null,
   "id": "f1a09993",
   "metadata": {},
   "outputs": [],
   "source": []
  }
 ],
 "metadata": {
  "kernelspec": {
   "display_name": "Python 3 (ipykernel)",
   "language": "python",
   "name": "python3"
  },
  "language_info": {
   "codemirror_mode": {
    "name": "ipython",
    "version": 3
   },
   "file_extension": ".py",
   "mimetype": "text/x-python",
   "name": "python",
   "nbconvert_exporter": "python",
   "pygments_lexer": "ipython3",
   "version": "3.10.8"
  }
 },
 "nbformat": 4,
 "nbformat_minor": 5
}
