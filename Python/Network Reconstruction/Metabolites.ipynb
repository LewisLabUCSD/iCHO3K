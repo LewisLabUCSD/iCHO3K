{
 "cells": [
  {
   "cell_type": "markdown",
   "id": "887d45b9",
   "metadata": {},
   "source": [
    "# Metabolites\n",
    "In the first part of this notebook we create a dataframe containing all the available information for the metabolites accounted in our reconstruction. The dataframe generated will constitute the **\"Metabolites Sheet\"** in our reconstruction. In the second part of this notebook we curate and identify duplicated metabolites in our dataset. <br><br>\n",
    "[1. Generation of Metabolites dataset](#generation) <br>\n",
    "&nbsp;&nbsp;&nbsp;&nbsp;**1.1 Retrieve a list of all the metabolites from our reconstruction** <br>\n",
    "&nbsp;&nbsp;&nbsp;&nbsp;**1.2 Retrieve information from all the metabolites on Recon3D, iCHO2291 and iCHO1766**<br>\n",
    "&nbsp;&nbsp;&nbsp;&nbsp;**1.3 Add all the metabolites information into our metabolites dataset** <br>\n",
    "&nbsp;&nbsp;&nbsp;&nbsp;**1.4 Unique metabolite identification** <br><br>\n",
    "[2. Retrieve Missing Information from Databases](#curation) <br>\n",
    "&nbsp;&nbsp;&nbsp;&nbsp;**2.1 Update missing information in metabolites dataset from BiGG** <br>\n",
    "&nbsp;&nbsp;&nbsp;&nbsp;**2.2 Update missing information in metabolites dataset from PubChem**<br>\n",
    "&nbsp;&nbsp;&nbsp;&nbsp;**2.3 Homogenize information and Update Google Sheet file**\n",
    "<br><br>\n",
    "[3. Identification of Duplicated Metabolites](#duplicated) <br>\n",
    "&nbsp;&nbsp;&nbsp;&nbsp;**3.1 Identification of duplicated metabolites by their Names and Formulas**<br>\n",
    "&nbsp;&nbsp;&nbsp;&nbsp;**3.2 Identification of duplicated metabolites by their PubChem IDs**<br>\n",
    "&nbsp;&nbsp;&nbsp;&nbsp;**3.3 Identification of duplicated metabolites by their Inchi**<br>\n",
    "\n",
    "[4. Statistical Analysis of the Information in the Metabolites Dataseet](#information) <br>\n",
    "&nbsp;&nbsp;&nbsp;&nbsp;**3.1 Calculate the missing Information for Relevant Metabolites** <br>\n",
    "&nbsp;&nbsp;&nbsp;&nbsp;**2.2 Update missing information in metabolites dataset from other databases** <br>\n",
    "&nbsp;&nbsp;&nbsp;&nbsp;**2.3 Identification of duplicated metabolites** <br>"
   ]
  },
  {
   "cell_type": "markdown",
   "id": "0b7ec3f1",
   "metadata": {},
   "source": [
    "<a id='generation'></a>\n",
    "## 1. Generation of Metabolites dataset\n",
    "We start by creating a list of all the metabolites included in the reactions of our reconstruction (1). Then we create a dataset containing all the metabolites info from Recon3D, iCHO2291 and iCHO1766 models, including supplementary information from Recon 3D (2). Now we can map back this information into the metabolites from our reconstruction and generate an excell file for uploading into Google Sheets (3). Finally, we estimate how many duplicated metabolites we have in our dataset by calculating occurences in different identifiers (5)."
   ]
  },
  {
   "cell_type": "code",
   "execution_count": null,
   "id": "67917966",
   "metadata": {},
   "outputs": [],
   "source": [
    "# Import libraries\n",
    "import pandas as pd\n",
    "import numpy as np\n",
    "import requests\n",
    "import time\n",
    "\n",
    "import cobra\n",
    "from cobra import Model\n",
    "from cobra.io import read_sbml_model\n",
    "\n",
    "from tqdm.notebook import tqdm\n",
    "\n",
    "import sys, os\n",
    "sys.path.append(os.path.abspath(\"..\"))\n",
    "from Utils.utils import df_to_dict"
   ]
  },
  {
   "cell_type": "markdown",
   "id": "3df425e3",
   "metadata": {},
   "source": [
    "### 1.1 Retrieve a list of all the metabolites from our reconstruction\n",
    "The list of all the reactions and the metabolites involved are in the Rxns Sheet in the Google Sheet."
   ]
  },
  {
   "cell_type": "code",
   "execution_count": null,
   "id": "cf12b2a3",
   "metadata": {},
   "outputs": [],
   "source": [
    "##### ----- Read iCHO3K reaction files ----- #####\n",
    "\n",
    "#Path to iCHO3K Excell\n",
    "FILE_PATH = '../../iCHO3K/Dataset/iCHO3K.xlsx'\n",
    "\n",
    "\n",
    "# Sheets\n",
    "sheet_rxns = 'Rxns'\n",
    "\n",
    "# Read into DataFrames\n",
    "rxns             = pd.read_excel(FILE_PATH, sheet_name=sheet_rxns)"
   ]
  },
  {
   "cell_type": "code",
   "execution_count": null,
   "id": "6618c9c3",
   "metadata": {},
   "outputs": [],
   "source": [
    "# Create a cobra model to identify the metabolites involved in our reconstruction\n",
    "model = cobra.Model(\"iCHOxxxx\")\n",
    "lr = []\n",
    "\n",
    "for _, row in rxns.iterrows():\n",
    "    r = cobra.Reaction(row['Reaction'])\n",
    "    lr.append(r)\n",
    "    \n",
    "model.add_reactions(lr)\n",
    "model"
   ]
  },
  {
   "cell_type": "code",
   "execution_count": null,
   "id": "1c283ed5",
   "metadata": {
    "scrolled": true
   },
   "outputs": [],
   "source": [
    "# With the built in function \"build_reaction_from_string\" we can identify the metabolites\n",
    "for i,r in enumerate(tqdm(model.reactions)):\n",
    "    r.build_reaction_from_string(rxns['Reaction Formula'][i])"
   ]
  },
  {
   "cell_type": "code",
   "execution_count": null,
   "id": "e9114e7c",
   "metadata": {},
   "outputs": [],
   "source": [
    "# We first create a list of the metabolites and then a pandas df with it\n",
    "metabolites_list = []\n",
    "for met in model.metabolites:\n",
    "    metabolites_list.append(met.id)\n",
    "    \n",
    "metabolites = pd.DataFrame(metabolites_list, columns =['BiGG ID'])\n",
    "metabolites"
   ]
  },
  {
   "cell_type": "markdown",
   "id": "3a9e37d9",
   "metadata": {},
   "source": [
    "### 1.2 Retrieve information from all the metabolites on Recon3D, iCHO2291 and iCHO1766\n",
    "We use two datasets for this, first we take information from the Recon3D.xml, iCHO2291.xml and iCHO1766 files from which we get the metabolite ID, Name, Formula and Compartment. We then add the metadata for the available metabolites from Recon3D supplementary files."
   ]
  },
  {
   "cell_type": "code",
   "execution_count": null,
   "id": "07fdb29b",
   "metadata": {},
   "outputs": [],
   "source": [
    "# read the Recon3D model\n",
    "recon3d_model = read_sbml_model('../../Data/GPR_Curation/Recon3D.xml')"
   ]
  },
  {
   "cell_type": "code",
   "execution_count": null,
   "id": "b5df9b4e",
   "metadata": {},
   "outputs": [],
   "source": [
    "# Generate a dataset containing all the metabolites, chemical formula of each metabolite and compartment\n",
    "num_rows = len(recon3d_model.metabolites)\n",
    "recon3d_model_metabolites = pd.DataFrame(index=range(num_rows), columns=['BiGG ID', 'Name', 'Formula', 'Compartment', 'Charge'])\n",
    "for i,met in enumerate(recon3d_model.metabolites):\n",
    "    id_ = met.id\n",
    "    name = met.name\n",
    "    formula = met.formula\n",
    "    comp = met.compartment\n",
    "    charge = met.charge\n",
    "    recon3d_model_metabolites.iloc[i] = [id_, name, formula, comp, charge]"
   ]
  },
  {
   "cell_type": "code",
   "execution_count": null,
   "id": "999568aa",
   "metadata": {},
   "outputs": [],
   "source": [
    "recon3d_model_metabolites"
   ]
  },
  {
   "cell_type": "code",
   "execution_count": null,
   "id": "0d0b2f35",
   "metadata": {},
   "outputs": [],
   "source": [
    "# read the Yeo's model\n",
    "iCHO2291_model = read_sbml_model('../../Data/Reconciliation/models/iCHO2291.xml')"
   ]
  },
  {
   "cell_type": "code",
   "execution_count": null,
   "id": "eff3f169",
   "metadata": {},
   "outputs": [],
   "source": [
    "# Generate a dataset containing all the metabolites, chemical formula of each metabolite and compartment from Yeo's model\n",
    "num_rows = len(iCHO2291_model.metabolites)\n",
    "iCHO2291_model_metabolites = pd.DataFrame(index=range(num_rows), columns=['BiGG ID', 'Name', 'Formula', 'Compartment', 'Charge'])\n",
    "for i,met in enumerate(iCHO2291_model.metabolites):\n",
    "    id_ = met.id\n",
    "    name = met.name\n",
    "    formula = met.formula\n",
    "    comp = met.compartment\n",
    "    charge = met.charge\n",
    "    iCHO2291_model_metabolites.iloc[i] = [id_, name, formula, comp, charge]\n",
    "    \n",
    "iCHO2291_model_metabolites['BiGG ID'] = iCHO2291_model_metabolites['BiGG ID'].str.replace(\"[\", \"_\", regex=False)\n",
    "iCHO2291_model_metabolites['BiGG ID'] = iCHO2291_model_metabolites['BiGG ID'].str.replace(\"]\", \"\", regex=False)\n",
    "iCHO2291_model_metabolites"
   ]
  },
  {
   "cell_type": "code",
   "execution_count": null,
   "id": "ae64f37a",
   "metadata": {},
   "outputs": [],
   "source": [
    "# read Hefzi's model\n",
    "iCHO1766_model = read_sbml_model('../../Data/Reconciliation/models/iCHOv1_final.xml')"
   ]
  },
  {
   "cell_type": "code",
   "execution_count": null,
   "id": "a570b3e2",
   "metadata": {},
   "outputs": [],
   "source": [
    "# Generate a dataset containing all the metabolites, chemical formula of each metabolite and compartment from Hefzi's model\n",
    "num_rows = len(iCHO1766_model.metabolites)\n",
    "iCHO1766_model_metabolites = pd.DataFrame(index=range(num_rows), columns=['BiGG ID', 'Name', 'Formula', 'Compartment', 'Charge'])\n",
    "for i,met in enumerate(iCHO1766_model.metabolites):\n",
    "    id_ = met.id\n",
    "    name = met.name\n",
    "    formula = met.formula\n",
    "    comp = met.compartment\n",
    "    charge = met.charge\n",
    "    iCHO1766_model_metabolites.iloc[i] = [id_, name, formula, comp, charge]\n",
    "\n",
    "iCHO1766_model_metabolites"
   ]
  },
  {
   "cell_type": "code",
   "execution_count": null,
   "id": "f8e2fb70",
   "metadata": {},
   "outputs": [],
   "source": [
    "models_metabolites = pd.concat([recon3d_model_metabolites, iCHO2291_model_metabolites, iCHO1766_model_metabolites])\n",
    "models_metabolites = models_metabolites.groupby('BiGG ID').first()\n",
    "models_metabolites = models_metabolites.reset_index(drop = False)\n",
    "models_metabolites"
   ]
  },
  {
   "cell_type": "code",
   "execution_count": null,
   "id": "bbd1af64",
   "metadata": {},
   "outputs": [],
   "source": [
    "#Generation of a dataset containing all the information from Recon3D metabolites Supplementary Data.\n",
    "recon3d_metabolites_meta = pd.read_excel('../../Data/Metabolites/metabolites.recon3d.xlsx', header = 0)\n",
    "recon3d_metabolites_meta['BiGG ID'] = recon3d_metabolites_meta['BiGG ID'].str.replace(\"[\", \"_\", regex=False)\n",
    "recon3d_metabolites_meta['BiGG ID'] = recon3d_metabolites_meta['BiGG ID'].str.replace(\"]\", \"\", regex=False)\n",
    "recon3d_metabolites_meta"
   ]
  },
  {
   "cell_type": "code",
   "execution_count": null,
   "id": "5ec5b66f",
   "metadata": {},
   "outputs": [],
   "source": [
    "# Transformation of the \"recon3d_metabolites_meta\" into a dict to map it into the \"recon3d_model_metabolites\"\n",
    "recon3dmet_dict = df_to_dict(recon3d_metabolites_meta, 'BiGG ID')"
   ]
  },
  {
   "cell_type": "code",
   "execution_count": null,
   "id": "c61c4e5d",
   "metadata": {},
   "outputs": [],
   "source": [
    "# Mapping into the \"recon3d_model_metabolites\" dataset\n",
    "models_metabolites[['KEGG','CHEBI', 'PubChem','Inchi', 'Hepatonet', 'EHMNID', 'SMILES', 'INCHI2',\n",
    "                          'CC_ID','Stereoisomer Information of Metabolite Identified', 'Charge of the Metabolite Identified',\n",
    "    'CID_ID','PDB (ligand-expo) Experimental Coordinates  File Url', 'Pub Chem Url',\n",
    "    'ChEBI Url']] = models_metabolites['BiGG ID'].apply(lambda x: pd.Series(recon3dmet_dict.get(x, None), dtype=object))"
   ]
  },
  {
   "cell_type": "code",
   "execution_count": null,
   "id": "731a69fd",
   "metadata": {},
   "outputs": [],
   "source": [
    "models_metabolites"
   ]
  },
  {
   "cell_type": "code",
   "execution_count": null,
   "id": "9ca8ddc2",
   "metadata": {},
   "outputs": [],
   "source": [
    "# Transform the final Recon3D Metabolites dataset into a dictionary to map it into our dataset\n",
    "final_met_dict = df_to_dict(models_metabolites, 'BiGG ID')"
   ]
  },
  {
   "cell_type": "markdown",
   "id": "a2f8c927",
   "metadata": {},
   "source": [
    "### 1.3 Add all the metabolites information into our metabolites dataset\n",
    "With the dictionary created in **Step 2** we can use the information to map it in the metabolites dataset created in **Step 1** which contains all the metabolites of our reconstruction."
   ]
  },
  {
   "cell_type": "code",
   "execution_count": null,
   "id": "84f2e90f",
   "metadata": {},
   "outputs": [],
   "source": [
    "metabolites[['Name', 'Formula', 'Compartment','Charge', 'KEGG','CHEBI', 'PubChem','Inchi', 'Hepatonet', 'EHMNID', 'SMILES',\n",
    "             'INCHI2','CC_ID','Stereoisomer Information of Metabolite Identified', 'Charge of the Metabolite Identified',\n",
    "    'CID_ID','PDB (ligand-expo) Experimental Coordinates  File Url', 'Pub Chem Url',\n",
    "    'ChEBI Url']] = metabolites['BiGG ID'].apply(lambda x: pd.Series(final_met_dict.get(x, None), dtype=object))"
   ]
  },
  {
   "cell_type": "code",
   "execution_count": null,
   "id": "6ed53515",
   "metadata": {},
   "outputs": [],
   "source": [
    "# Update the Compartment column in the final dataset\n",
    "for i,row in metabolites.iterrows():\n",
    "    if row['Compartment'] == 'c':\n",
    "        metabolites.loc[i, 'Compartment'] = 'c - cytosol'\n",
    "    if row['Compartment'] == 'l':\n",
    "        metabolites.loc[i, 'Compartment'] = 'l - lysosome'\n",
    "    if row['Compartment'] == 'm':\n",
    "        metabolites.loc[i, 'Compartment'] = 'm - mitochondria'\n",
    "    if row['Compartment'] == 'r':\n",
    "        metabolites.loc[i, 'Compartment'] = 'r - endoplasmic reticulum'\n",
    "    if row['Compartment'] == 'e':\n",
    "        metabolites.loc[i, 'Compartment'] = 'e - extracellular space'\n",
    "    if row['Compartment'] == 'x':\n",
    "        metabolites.loc[i, 'Compartment'] = 'x - peroxisome/glyoxysome'\n",
    "    if row['Compartment'] == 'n':\n",
    "        metabolites.loc[i, 'Compartment'] = 'n - nucleus'\n",
    "    if row['Compartment'] == 'g':\n",
    "        metabolites.loc[i, 'Compartment'] = 'g - golgi apparatus'\n",
    "    if row['Compartment'] == 'im':\n",
    "        metabolites.loc[i, 'Compartment'] = 'im - intermembrane space of mitochondria'"
   ]
  },
  {
   "cell_type": "code",
   "execution_count": null,
   "id": "1bcbe9d6",
   "metadata": {},
   "outputs": [],
   "source": [
    "# The dataset generated is stored as an Excel file in the \"Data\" folder\n",
    "metabolites.to_excel('../../Data/Metabolites/metabolites.xlsx')"
   ]
  },
  {
   "cell_type": "markdown",
   "id": "ea810d78",
   "metadata": {},
   "source": [
    "### 1.4 Adding charges to metabolites\n",
    "In this section we retrieve information on metabolites charges from different datasets. First, we map all the metabolites charges from **iCHO1766**, **iCHO2291**. Then, metabolites that remaine unidentified are mapped from the **Recon 3D** dataset.\n",
    "Finally, if there are extra metnabolites whose charges were not identified, we use a **generic metabolite** dataset to map charges to those metabolites."
   ]
  },
  {
   "cell_type": "code",
   "execution_count": null,
   "id": "87044260",
   "metadata": {},
   "outputs": [],
   "source": [
    "##### ----- Read iCHO3K reaction files ----- #####\n",
    "\n",
    "#Path to iCHO3K Excell\n",
    "FILE_PATH = '../../iCHO3K/Dataset/iCHO3K.xlsx'\n",
    "\n",
    "\n",
    "# Sheets\n",
    "sheet_met = 'Metabolites'\n",
    "\n",
    "# Read into DataFrames\n",
    "metabolites      = pd.read_excel(FILE_PATH, sheet_name=sheet_met)"
   ]
  },
  {
   "cell_type": "code",
   "execution_count": null,
   "id": "06fe87f8",
   "metadata": {
    "scrolled": true
   },
   "outputs": [],
   "source": [
    "# Add charges from iCHO1766, iCHO2291 and Recon3D\n",
    "\n",
    "iCHO2291_model_metabolites_dict = iCHO2291_model_metabolites.set_index('BiGG ID')['Charge'].to_dict() #iCHO2291 dataset dict\n",
    "recon3d_model_metabolites_dict = recon3d_model_metabolites.set_index('BiGG ID')['Charge'].to_dict() #Recon3D dataset dict\n",
    "\n",
    "for i,row in metabolites.iterrows():\n",
    "    if (row['Charge'] == '' or pd.isna(row['Charge'])):\n",
    "        metab = row['BiGG ID']\n",
    "        try:\n",
    "            met = iCHO1766_model.metabolites.get_by_id(metab)\n",
    "            metabolites.loc[i, 'Charge'] = met.charge\n",
    "        except KeyError:\n",
    "            print(f'{metab} not present in iCHO1766')\n",
    "            try:\n",
    "                met = iCHO2291_model.metabolites.get_by_id(metab)\n",
    "                metabolites.loc[i, 'Charge'] = met.charge\n",
    "            except KeyError:\n",
    "                print(f'{metab} not present in iCHO1766 nor iCHO2291')\n",
    "                try:\n",
    "                    metab_recon3d = metab.replace('_cho_', '_hs_')\n",
    "                    print(metab)\n",
    "                    met = recon3d_model.metabolites.get_by_id(metab)\n",
    "                    metabolites.loc[i, 'Charge'] = met.charge\n",
    "                except KeyError:\n",
    "                    print(f'{metab} not present in any model. Trying with datasets dicts')\n",
    "                    try:\n",
    "                        charge = iCHO2291_model_metabolites_dict[metab]\n",
    "                        metabolites.loc[i, 'Charge'] = charge\n",
    "                    except KeyError:\n",
    "                        print(f'{metab} not present in iCHO2291 dict')\n",
    "                        try:\n",
    "                            charge = recon3d_model_metabolites_dict[metab_recon3d]\n",
    "                            metabolites.loc[i, 'Charge'] = charge\n",
    "                        except KeyError:\n",
    "                            print(f'{metab} not present in Recon3D dict')"
   ]
  },
  {
   "cell_type": "code",
   "execution_count": null,
   "id": "6a56e605-eded-4d9c-97a7-054a93af7dd8",
   "metadata": {
    "scrolled": true
   },
   "outputs": [],
   "source": [
    "# Add charges from generic metabolites dataset\n",
    "\n",
    "column_names = ['met_id', 'name', 'formula_1', 'formula_2', 'charge', 'kegg_id', 'pubchem_id', 'chebi_id', 'inchi_key', 'miscellaneous1', 'miscellaneous2', 'miscellaneous3', 'miscellaneous4'] \n",
    "metabolites_generic_df = pd.read_csv('../../Data/Metabolites/metabolites_generic.txt', sep='\\t', header=None, names=column_names)\n",
    "metabolites_generic_dict = metabolites_generic_df.set_index('met_id')['charge'].to_dict()\n",
    "\n",
    "c=0\n",
    "\n",
    "for i,row in metabolites.iterrows():\n",
    "    if (row['Charge'] == '' or pd.isna(row['Charge'])):\n",
    "        metab = row['BiGG ID'][:-2]\n",
    "        try:\n",
    "            charge = metabolites_generic_dict[metab]\n",
    "            metabolites.loc[i, 'Charge'] = charge\n",
    "        except KeyError:\n",
    "            continue\n",
    "        print(metab, charge)\n",
    "print(c)"
   ]
  },
  {
   "cell_type": "markdown",
   "id": "a403d884",
   "metadata": {},
   "source": [
    "<a id='curation'></a>\n",
    "## 2. Retrieve Missing Information from Databases\n",
    "In this second part of the notebook we curate missing information in the metabolites dataset generated above. Since many metabolites have been manually curated in the \"Metabolites\" google sheet file, we generate a new dataframe using the GoogleSheet class to obtain the metabolites dataset with all the changes"
   ]
  },
  {
   "cell_type": "code",
   "execution_count": null,
   "id": "c8fe2972",
   "metadata": {},
   "outputs": [],
   "source": [
    "# Import libraries\n",
    "import pandas as pd\n",
    "import numpy as np\n",
    "import time\n",
    "import requests\n",
    "from bs4 import BeautifulSoup\n",
    "\n",
    "import cobra\n",
    "from cobra import Model, Reaction\n",
    "\n",
    "from tqdm.notebook import tqdm\n",
    "\n",
    "from Utils.metabolite_identifiers import getPubchemCID, getChEMBLID, getCIDSmilesInChI, getCIDFormula, homogenize_info"
   ]
  },
  {
   "cell_type": "code",
   "execution_count": null,
   "id": "fb61a27b",
   "metadata": {},
   "outputs": [],
   "source": [
    "##### ----- Read iCHO3K reaction files ----- #####\n",
    "\n",
    "#Path to iCHO3K Excell\n",
    "FILE_PATH = '../../iCHO3K/Dataset/iCHO3K.xlsx'\n",
    "\n",
    "\n",
    "# Sheets\n",
    "sheet_met = 'Metabolites'\n",
    "\n",
    "# Read into DataFrames\n",
    "metabolites      = pd.read_excel(FILE_PATH, sheet_name=sheet_met)"
   ]
  },
  {
   "cell_type": "markdown",
   "id": "344cfb7a",
   "metadata": {},
   "source": [
    "### 2.1 Update missing information in metabolites dataset from BiGG"
   ]
  },
  {
   "cell_type": "code",
   "execution_count": null,
   "id": "8d747138",
   "metadata": {},
   "outputs": [],
   "source": [
    "# Get BiGG descriptive names from the BiGG database\n",
    "\n",
    "# Unknown Mets: metabolites without names\n",
    "unkown_mets = metabolites[metabolites['Name'] == '']\n",
    "\n",
    "Descriptive_Names = [''] * len(unkown_mets)\n",
    "Formulae = [''] * len(Descriptive_Names)\n",
    "Changed = [True] * len(Descriptive_Names)\n",
    "\n",
    "for Met_Counter, metID in enumerate(tqdm(unkown_mets['BiGG ID'].iloc[:])):\n",
    "    print(Met_Counter)\n",
    "    input_str = metID[:-2]\n",
    "    response = requests.get(f\"http://bigg.ucsd.edu/universal/metabolites/{input_str}\")\n",
    "    time.sleep(1)\n",
    "    # Check if the request was successful\n",
    "    if response.status_code != 200:\n",
    "        D_Name = \"BiGG ID not found in BiGG\"\n",
    "        Formulae_B = \"BiGG ID not found in BiGG\"\n",
    "        Changed[Met_Counter] = False       \n",
    "    else:    \n",
    "        soup = BeautifulSoup(response.content, 'html.parser')\n",
    "        N_Header = soup.find('h4', string='Descriptive name:')\n",
    "        D_Name = N_Header.find_next_sibling('p').text\n",
    "        N_Formulae = soup.find('h4', string='Formulae in BiGG models: ')\n",
    "        Formulae_B = N_Formulae.find_next_sibling('p').text    \n",
    "        if D_Name is None:\n",
    "            D_Name = \"Name not found in BiGG\"            \n",
    "        elif Formulae_B is None:\n",
    "            Formulae_B = \"Formula not found in BiGG\"                \n",
    "    Descriptive_Names[Met_Counter] = D_Name\n",
    "    Formulae[Met_Counter] = Formulae_B"
   ]
  },
  {
   "cell_type": "code",
   "execution_count": null,
   "id": "e2337154",
   "metadata": {},
   "outputs": [],
   "source": [
    "for Met_Counter, metID in enumerate(unkown_mets['BiGG ID']):\n",
    "    print('before',unkown_mets['BiGG ID'].iloc[Met_Counter])\n",
    "    print('before',unkown_mets['Formula'].iloc[Met_Counter])\n",
    "    print('before',unkown_mets['Name'].iloc[Met_Counter])\n",
    "    if unkown_mets['Formula'].iloc[Met_Counter] == '':\n",
    "        unkown_mets['Formula'].iloc[Met_Counter] = Formulae[Met_Counter]  \n",
    "    unkown_mets['Name'].iloc[Met_Counter] = Descriptive_Names[Met_Counter]\n",
    "    print('..............................................')\n",
    "    print('after',unkown_mets['BiGG ID'].iloc[Met_Counter])\n",
    "    print('after',unkown_mets['Formula'].iloc[Met_Counter])\n",
    "    print('after',unkown_mets['Name'].iloc[Met_Counter])\n",
    "    print('..............................................')\n",
    "    print('..............................................')\n",
    "    print('..............................................')"
   ]
  },
  {
   "cell_type": "markdown",
   "id": "f4d1879a",
   "metadata": {},
   "source": [
    "### 2.2 Update missing information in metabolites dataset from PubChem\n",
    "Here we use different functions from the \"metabolites\" module to try to fetch Inchi, SMILES and database identifiers for all the metabolites in our reconstruction"
   ]
  },
  {
   "cell_type": "code",
   "execution_count": null,
   "id": "57ae9573",
   "metadata": {},
   "outputs": [],
   "source": [
    "# Get PubChem IDs using the getPubchemCID() function\n",
    "\n",
    "counter = 0\n",
    "no_match = [] #create an empty list with PubChem IDs that don't match with the formulas in the dataset\n",
    "for i,met in tqdm(metabolites.iterrows()):\n",
    "    cmp = met['Name']\n",
    "    if met['PubChem']=='NaN':\n",
    "        pubchem_id = getPubchemCID(cmp,'')\n",
    "         \n",
    "        if pubchem_id:\n",
    "            if (len(pubchem_id)>1): #If there is more than 1 Pubchem ID, check which one correspond to our metabolite\n",
    "                match_found = False\n",
    "                for _id in pubchem_id:\n",
    "                    form = getCIDFormula(_id)\n",
    "                    \n",
    "                    # Compare the formula obtained from the PubChem ID to the one in our dataset\n",
    "                    if (form == met['Formula']):\n",
    "                        match_found = True\n",
    "                        metabolites.loc[i, 'PubChem'] = _id\n",
    "                        print('Match found:'+met['BiGG ID'], _id)\n",
    "                        break # break the loop as we found the match\n",
    "                        \n",
    "                if not match_found:  # if no match was found\n",
    "                    _id = pubchem_id[0]  # take the first ID in the pubchem_id list\n",
    "                    metabolites.loc[i, 'PubChem'] = _id  \n",
    "                    print('Not match found:'+met['BiGG ID'], pubchem_id)\n",
    "                    no_match.append([met['BiGG ID'], pubchem_id])\n",
    "                    \n",
    "            # If there is only one ID associated to that metabolite        \n",
    "            else:\n",
    "                metabolites.loc[i, 'PubChem'] = pubchem_id[0]\n",
    "                print(met['BiGG ID'], pubchem_id[0])\n",
    "            counter +=1\n",
    "            print(counter)\n"
   ]
  },
  {
   "cell_type": "code",
   "execution_count": null,
   "id": "2cb19770",
   "metadata": {},
   "outputs": [],
   "source": [
    "# Get the Inchi and SMILES for the metabolites with PubChem IDs retrieved previously\n",
    "\n",
    "counter = 0\n",
    "for i,met in metabolites.iterrows():\n",
    "    if (met['PubChem'] != 'NaN' and (met['Inchi']=='NaN' or met['SMILES']=='NaN')):\n",
    "        try:\n",
    "            Inchi_SMILES = getCIDSmilesInChI(met['PubChem'])\n",
    "            SMILES = Inchi_SMILES[0]\n",
    "            Inchi = Inchi_SMILES[1]\n",
    "            \n",
    "            if met['Inchi']=='NaN':\n",
    "                metabolites.loc[i, 'Inchi'] = Inchi\n",
    "            if met['SMILES']=='NaN':\n",
    "                metabolites.loc[i, 'SMILES'] = SMILES\n",
    "                \n",
    "            print(met['BiGG ID'])\n",
    "            print(SMILES)\n",
    "            print(Inchi)\n",
    "            print('............')\n",
    "        except KeyError:\n",
    "            print(met['BiGG ID']+' Inchi and SMILES cannot be retrieved')\n",
    "        \n",
    "        counter +=1\n",
    "        print(counter)"
   ]
  },
  {
   "cell_type": "markdown",
   "id": "56a922c2",
   "metadata": {},
   "source": [
    "### 2.3 Homogenize information and Update Google Sheet file\n",
    "The information retrieved in **2.1** and **2.2** is first homogenized in order for each metabolite to have the same information in all the compartments. And finally the Google Sheet file is updated."
   ]
  },
  {
   "cell_type": "code",
   "execution_count": null,
   "id": "b36f8dd6",
   "metadata": {},
   "outputs": [],
   "source": [
    "print('Before homogenization')\n",
    "print(len(metabolites[metabolites['Charge']=='']))\n",
    "print(len(metabolites[metabolites['PubChem']=='NaN']))\n",
    "print(len(metabolites[metabolites['Inchi']=='NaN']))\n",
    "print(len(metabolites[metabolites['SMILES']=='NaN']))"
   ]
  },
  {
   "cell_type": "code",
   "execution_count": null,
   "id": "85e9e885",
   "metadata": {},
   "outputs": [],
   "source": [
    "# Homogenize the columns in your DataFrame\n",
    "metabolites = homogenize_info(metabolites)\n",
    "metabolites"
   ]
  },
  {
   "cell_type": "code",
   "execution_count": null,
   "id": "8a1a9fa5",
   "metadata": {},
   "outputs": [],
   "source": [
    "print('After homogenization')\n",
    "print(len(metabolites[metabolites['Charge']=='']))\n",
    "print(len(metabolites[metabolites['PubChem']=='NaN']))\n",
    "print(len(metabolites[metabolites['Inchi']=='NaN']))\n",
    "print(len(metabolites[metabolites['SMILES']=='NaN']))"
   ]
  },
  {
   "cell_type": "markdown",
   "id": "1bb3abfc",
   "metadata": {},
   "source": [
    "<a id='duplicated'></a>\n",
    "## 3. Identification of Duplicated Metabolites \n",
    "Here we use the customized functions **getCanonical** and **similarity_calc** from the **metabolite_identifiers** module to identify duplicated metabolites through their SMILES. "
   ]
  },
  {
   "cell_type": "code",
   "execution_count": null,
   "id": "0128a76c",
   "metadata": {},
   "outputs": [],
   "source": [
    "# Import libraries\n",
    "import pandas as pd\n",
    "import numpy as np\n",
    "import time\n",
    "import requests\n",
    "from bs4 import BeautifulSoup\n",
    "from scipy.stats import mode\n",
    "\n",
    "import cobra\n",
    "from cobra import Model, Reaction\n",
    "\n",
    "from tqdm.notebook import tqdm\n",
    "\n",
    "from Utils.metabolite_identifiers import getCanonical, similarity_calc"
   ]
  },
  {
   "cell_type": "code",
   "execution_count": null,
   "id": "a2f57973-b8b9-4a07-b95f-da2d8a0f4916",
   "metadata": {},
   "outputs": [],
   "source": [
    "##### ----- Read iCHO3K reaction files ----- #####\n",
    "\n",
    "#Path to iCHO3K Excell\n",
    "FILE_PATH = '../../iCHO3K/Dataset/iCHO3K.xlsx'\n",
    "\n",
    "\n",
    "# Sheets\n",
    "sheet_met = 'Metabolites'\n",
    "\n",
    "# Read into DataFrames\n",
    "met      = pd.read_excel(FILE_PATH, sheet_name=sheet_met)"
   ]
  },
  {
   "cell_type": "markdown",
   "id": "a2bb64c2",
   "metadata": {},
   "source": [
    "### 3.1 Identification of duplicated metabolites by their Names and Formulas\n",
    "The first step in the indetification of duplicated metabolites is to ideentify those that share exactly the same **name** and **formula**, in which case the matabolites involved are automatically labeled as duplicated and fixed."
   ]
  },
  {
   "cell_type": "code",
   "execution_count": null,
   "id": "e36d42b3",
   "metadata": {},
   "outputs": [],
   "source": [
    "# Convert metabolites names to lower case and remove the compartment\n",
    "met['Name'] = met['Name'].str.lower()\n",
    "met_copy = met.copy()\n",
    "met_copy['BiGG ID'] = met_copy['BiGG ID'].str[:-2]\n",
    "met_copy"
   ]
  },
  {
   "cell_type": "code",
   "execution_count": null,
   "id": "838db9e3",
   "metadata": {},
   "outputs": [],
   "source": [
    "# Generate a list with duplicated metabolites\n",
    "\n",
    "grouped = met_copy.groupby(['Name', 'Formula'])\n",
    "\n",
    "# Initialize an empty dictionary to store the results\n",
    "duplicated_metabolites = []\n",
    "\n",
    "# Iterate over the grouped DataFrame\n",
    "for (Name, Formula), group in grouped:\n",
    "    # Check if the group has more than one element (i.e., duplicate) and filter out those metabolites whose names are unknown\n",
    "    if group['BiGG ID'].nunique() > 1 and Name != 'bigg id not found in bigg':\n",
    "        unique_ids = group['BiGG ID'].unique()\n",
    "        duplicated_metabolites.append((Name, Formula, unique_ids))"
   ]
  },
  {
   "cell_type": "code",
   "execution_count": null,
   "id": "ae6eefb4",
   "metadata": {},
   "outputs": [],
   "source": [
    "# Generate empty dict to store the existence of each duplicated metabolite in BiGG\n",
    "duplicated_dict = {}\n",
    "\n",
    "\n",
    "for metabolite in tqdm(duplicated_metabolites):\n",
    "    duplicated_dict[metabolite[0]] = {}\n",
    "    for big_id in metabolite[2]:\n",
    "        time.sleep(1)\n",
    "        # Generate a tag for each metabolite\n",
    "        response = requests.get(f\"http://bigg.ucsd.edu/universal/metabolites/{big_id}\")\n",
    "        if response.status_code == 200:\n",
    "            #if the metabolite is in BiGG \"OK\"\n",
    "            duplicated_dict[metabolite[0]][big_id] = 'OK'\n",
    "        else:\n",
    "            #if is not \"NO\"\n",
    "            duplicated_dict[metabolite[0]][big_id] ='NO'\n",
    "        \n"
   ]
  },
  {
   "cell_type": "code",
   "execution_count": null,
   "id": "1c3f4d1d",
   "metadata": {},
   "outputs": [],
   "source": [
    "# Eliminate proton from the duplicated_dict\n",
    "duplicated_dict.pop('proton')\n",
    "duplicated_dict"
   ]
  },
  {
   "cell_type": "code",
   "execution_count": null,
   "id": "e79d9717",
   "metadata": {},
   "outputs": [],
   "source": [
    "#Examine the generated dictionary of duplicated values\n",
    "duplicated_dict"
   ]
  },
  {
   "cell_type": "code",
   "execution_count": null,
   "id": "d91e7035",
   "metadata": {},
   "outputs": [],
   "source": [
    "# Create a dictionary to store the 'OK' subkey for each key in duplicated_dict\n",
    "ok_dict = {}\n",
    "\n",
    "# Iterate over keys in duplicated_dict\n",
    "for key in duplicated_dict:\n",
    "    # Create an empty list to store 'NO' subkeys for this key\n",
    "    no_list = []\n",
    "    # Iterate over subkeys and values in sub-dictionary\n",
    "    for subkey, value in duplicated_dict[key].items():\n",
    "        # If the value is 'OK', save the subkey to a variable\n",
    "        if value == 'OK':\n",
    "            ok_dict[key] = subkey\n",
    "        # If the value is 'NO', add the subkey to the list\n",
    "        elif value == 'NO':\n",
    "            no_list.append(subkey)\n",
    "    # Replace all 'NO' subkeys with the 'OK' subkey for this key in all the datasets\n",
    "    if key in ok_dict:\n",
    "        ok_subkey = ok_dict[key]\n",
    "        for no_subkey in no_list:\n",
    "            met['BiGG ID'] = met['BiGG ID'].str.replace(no_subkey, ok_subkey)\n",
    "            rxns['Reaction Formula'] = rxns['Reaction Formula'].str.replace(no_subkey, ok_subkey)\n",
    "            attributes['Reaction Formula'] = attributes['Reaction Formula'].str.replace(no_subkey, ok_subkey)\n",
    "    # Reset the 'ok_subkey' and 'no_subkey' variables at the end of each iteration over keys\n",
    "    ok_dict[key] = None"
   ]
  },
  {
   "cell_type": "markdown",
   "id": "05870f1d",
   "metadata": {},
   "source": [
    "### 3.2 Identification of duplicated metabolites by their PubChem IDs\n",
    "Once the duplicated metabolites have been identified by their names and formulas we then move to the identification of duplicated metabolites by their **PubChem IDs** retrieved in **2.2**."
   ]
  },
  {
   "cell_type": "code",
   "execution_count": null,
   "id": "b1d3a930",
   "metadata": {
    "tags": []
   },
   "outputs": [],
   "source": [
    "# Geneate a dict with metabolite IDs, without the compartment, as keys, and SMILES strings as values\n",
    "met_copy = met_copy.groupby('BiGG ID').first()\n",
    "met_copy = met_copy.reset_index()\n",
    "met_dict = met_copy.set_index('BiGG ID')[['PubChem','Inchi','SMILES']].to_dict(orient='index')\n",
    "\n",
    "met_dict"
   ]
  },
  {
   "cell_type": "code",
   "execution_count": null,
   "id": "b7f7ddf3",
   "metadata": {
    "tags": []
   },
   "outputs": [],
   "source": [
    "# Create an inverted dictionary with PubChem IDs as keys and Metabolite IDs as values\n",
    "inverted_data = {}\n",
    "\n",
    "for key, value in met_dict.items():\n",
    "    pubchem_value = value['PubChem']\n",
    "    if pubchem_value == 'NaN':\n",
    "        continue  # Skip if the PubChem value is 'NaN'\n",
    "    if pubchem_value not in inverted_data:\n",
    "        inverted_data[pubchem_value] = [key]\n",
    "    else:\n",
    "        inverted_data[pubchem_value].append(key)\n",
    "\n",
    "# Check for PubChem values associated with more than one key\n",
    "for pubchem_value, keys in inverted_data.items():\n",
    "    if len(keys) > 1:\n",
    "        print(f\"PubChem value '{pubchem_value}' is associated with keys: {keys}\")\n"
   ]
  },
  {
   "cell_type": "markdown",
   "id": "ef8865af",
   "metadata": {},
   "source": [
    "The list of metabolites generated here is then manually curated since many of the duplicated PubChem IDs could be wrongly assigned."
   ]
  },
  {
   "cell_type": "markdown",
   "id": "f5260e99",
   "metadata": {},
   "source": [
    "### 3.3 Identification of duplicated metabolites by their Inchi\n",
    "Next, we identify those metabolites that are duplicated by comparting their **Inchi** string. Here we repeate the procedure used in **3.2** and create an inverted a dictionary with the **Inchi** as keys and **Metabolite IDs** as values."
   ]
  },
  {
   "cell_type": "code",
   "execution_count": null,
   "id": "cfb6d30b",
   "metadata": {
    "tags": []
   },
   "outputs": [],
   "source": [
    "# Create an inverted dictionary with Inchis as keys and Metabolite IDs as values\n",
    "inverted_data = {}\n",
    "\n",
    "for key, value in met_dict.items():\n",
    "    inchi_value = value['Inchi']\n",
    "    if inchi_value == 'NaN':\n",
    "        continue  # Skip if the Inchi value is 'NaN'\n",
    "    if inchi_value == '':\n",
    "        continue  # Skip if the Inchi value is an empty string\n",
    "    if inchi_value == None:\n",
    "        continue  # Skip if the Inchi value is None\n",
    "    if inchi_value not in inverted_data:\n",
    "        inverted_data[inchi_value] = [key]\n",
    "    else:\n",
    "        inverted_data[inchi_value].append(key)\n",
    "\n",
    "# Check for PubChem values associated with more than one key\n",
    "for inchi_value, keys in inverted_data.items():\n",
    "    if len(keys) > 1:\n",
    "        print(f\"Inchi value '{inchi_value}' is associated with keys: {keys}\")\n"
   ]
  },
  {
   "cell_type": "markdown",
   "id": "1eb793c3",
   "metadata": {},
   "source": [
    "The list of metabolites generated here is then manually curated since many of the duplicated Inchis could be wrongly annotated."
   ]
  },
  {
   "cell_type": "code",
   "execution_count": null,
   "id": "cb146c7d",
   "metadata": {},
   "outputs": [],
   "source": [
    "# Store the original column order\n",
    "column_order = met.columns.tolist()\n",
    "\n",
    "# Group by 'BiGG ID' and keep the first non-null value in each group, then reset the index\n",
    "met = met.groupby('BiGG ID').first().reset_index()\n",
    "\n",
    "# Rearrange the columns to the original order\n",
    "met = met[column_order]\n",
    "\n",
    "met"
   ]
  },
  {
   "cell_type": "code",
   "execution_count": null,
   "id": "8da83369",
   "metadata": {
    "tags": []
   },
   "outputs": [],
   "source": [
    "# Normalize all the SMILES to Canonical\n",
    "dict_metabolites_canonical = {k: getCanonical(v) for k, v in met_dict.items() if str(v) != 'NaN'}"
   ]
  },
  {
   "cell_type": "code",
   "execution_count": null,
   "id": "5b783fdd",
   "metadata": {},
   "outputs": [],
   "source": [
    "# Initialize an empty dictionary to hold the results\n",
    "similarity_scores = {}\n",
    "\n",
    "# Iterate over each pair of keys in the dictionary\n",
    "for key1, smi1 in tqdm(dict_metabolites_canonical.items()):\n",
    "    for key2, smi2 in dict_metabolites_canonical.items():\n",
    "        # Avoid comparing a molecule to itself\n",
    "        if key1 != key2:\n",
    "            # Construct a unique identifier for this pair of molecules\n",
    "            pair_id = f\"{key1}_{key2}\"\n",
    "\n",
    "            # Calculate the similarity between the two molecules\n",
    "            similarity = similarity_calc(smi1, smi2)\n",
    "\n",
    "            # Store the similarity score in the results dictionary\n",
    "            similarity_scores[pair_id] = similarity\n",
    "\n",
    "print(similarity_scores)"
   ]
  },
  {
   "cell_type": "code",
   "execution_count": null,
   "id": "24e4a1c2",
   "metadata": {
    "scrolled": true,
    "tags": []
   },
   "outputs": [],
   "source": [
    "# Check for diferences between the metabolites in the \"Rxns\" and \"Metabolites\" Sheets\n",
    "\n",
    "model = Model(\"iCHO\")\n",
    "lr = []\n",
    "for _, row in rxns.iterrows():\n",
    "    r = Reaction(row['Reaction'])\n",
    "    lr.append(r)    \n",
    "model.add_reactions(lr)\n",
    "\n",
    "for i,r in enumerate(tqdm(model.reactions)):\n",
    "    print(r.id)\n",
    "    r.build_reaction_from_string(rxns['Reaction Formula'][i]) \n",
    "    \n",
    "model_met_list = []\n",
    "for m in model.metabolites:\n",
    "    model_met_list.append(m.id)\n",
    "    \n",
    "sheet_met_list = list(met['BiGG ID'])\n",
    "\n",
    "model = set(model_met_list)\n",
    "sheet = set(sheet_met_list)"
   ]
  },
  {
   "cell_type": "code",
   "execution_count": null,
   "id": "42d26342",
   "metadata": {},
   "outputs": [],
   "source": [
    "diff1 = model - sheet\n",
    "print(f'Metabolites in the Rxns Sheet not present in the Metabolites Sheet:{list(diff1)}\\n')\n",
    "\n",
    "\n",
    "diff2 = sheet - model\n",
    "print(f'Metabolites in the Metabolites Sheet not present in the Rxns Sheet:{list(diff2)}\\n')\n",
    "\n",
    "equal = (sheet == model)\n",
    "if equal:\n",
    "    print('Both sheets contains the same exactly metabolites')"
   ]
  },
  {
   "cell_type": "markdown",
   "id": "549b70ec",
   "metadata": {},
   "source": [
    "#### Identification of missing Metabolites"
   ]
  },
  {
   "cell_type": "code",
   "execution_count": null,
   "id": "f86ad9b4",
   "metadata": {},
   "outputs": [],
   "source": [
    "##### ----- Read iCHO3K reaction files ----- #####\n",
    "\n",
    "#Path to iCHO3K Excell\n",
    "FILE_PATH = '../../iCHO3K/Dataset/iCHO3K.xlsx'\n",
    "\n",
    "\n",
    "# Sheets\n",
    "sheet_met = 'Metabolites'\n",
    "\n",
    "# Read into DataFrames\n",
    "met      = pd.read_excel(FILE_PATH, sheet_name=sheet_met)\n",
    "met_copy = met.copy()\n",
    "met_copy['BiGG ID'] = met_copy['BiGG ID'].str[:-2]"
   ]
  },
  {
   "cell_type": "code",
   "execution_count": null,
   "id": "5da4ead4",
   "metadata": {},
   "outputs": [],
   "source": [
    "import numpy as np\n",
    "\n",
    "empty_cells_KEGG = met_copy['KEGG'] == ''\n",
    "empty_cells_CHEBI = met_copy['CHEBI'] == ''\n",
    "empty_cells_ChEMBILD = met_copy['ChEMBLID'] == ''\n",
    "empty_cells_PubChem = met_copy['PubChem'] == 'NaN'\n",
    "empty_cells = np.sum(empty_cells_KEGG & empty_cells_CHEBI & empty_cells_ChEMBILD & empty_cells_PubChem)\n",
    "empty_mets = met_copy.loc[empty_cells_KEGG & empty_cells_CHEBI & empty_cells_ChEMBILD & empty_cells_PubChem]\n",
    "print(f\"Number of empty cells (Mets with no IDs): {empty_cells}\")"
   ]
  },
  {
   "cell_type": "markdown",
   "id": "bd289c58",
   "metadata": {},
   "source": [
    "##### Check if the Mets belong only in one reconstruction"
   ]
  },
  {
   "cell_type": "code",
   "execution_count": null,
   "id": "a59ca78d",
   "metadata": {},
   "outputs": [],
   "source": [
    "import pandas as pd\n",
    "import re\n",
    "\n",
    "Recon = pd.read_excel('../../Data/Reconciliation/datasets/rxns_recon3d_toadd.xlsx')\n",
    "Recon_Mets = Recon['m_metabolites'].copy()\n",
    "\n",
    "Hefzi = pd.read_excel('../../Data/Reconciliation/datasets/hefzi_final.xlsx')\n",
    "Hefzi_Mets = Hefzi['Reaction Formula'].copy()\n",
    "\n",
    "iCHO2101 = pd.read_excel('../../Data/Reconciliation/datasets/iCHO2101.xlsx', sheet_name='Supplementary Table 10', skiprows=1)\n",
    "iCHO2101_Mets = iCHO2101['Reaction'].copy()\n",
    "\n",
    "iCHO2291 = pd.read_excel('../../Data/Reconciliation/datasets/iCHO2291_final.xlsx')\n",
    "iCHO2291_Mets = iCHO2291['Reaction Formula'].copy()\n"
   ]
  },
  {
   "cell_type": "code",
   "execution_count": null,
   "id": "382a13bd",
   "metadata": {},
   "outputs": [],
   "source": [
    "import re\n",
    "Mets = []\n",
    "for met in Recon_Mets:\n",
    "    elements = re.findall(r'[+]+|-->|<=>|\\b\\w+\\b', met)\n",
    "    elements = [elem for elem in elements if elem not in ['+', '-->', '<=>']]\n",
    "    Mets.append(elements)\n",
    "Big_Mets = []\n",
    "for sublist in Mets:\n",
    "    Big_Mets.extend(sublist)\n",
    "ReconMets = [element.split('_')[0] for element in Big_Mets]\n",
    "\n",
    "Mets = []\n",
    "for met in Hefzi_Mets:\n",
    "    elements = re.findall(r'[+]+|-->|<=>|\\b\\w+\\b', met)\n",
    "    elements = [elem for elem in elements if elem not in ['+', '-->', '<=>']]\n",
    "    Mets.append(elements)\n",
    "Big_Mets = []\n",
    "for sublist in Mets:\n",
    "    Big_Mets.extend(sublist)\n",
    "HefziMets = [element.split('_')[0] for element in Big_Mets]\n",
    "\n",
    "Mets = []\n",
    "for met in iCHO2101_Mets:\n",
    "    elements = re.findall(r'[+]+|-->|<=>|\\b\\w+\\b', met)\n",
    "    elements = [elem for elem in elements if elem not in ['+', '=>', '<=>']]\n",
    "    Mets.append(elements)\n",
    "Big_Mets = []\n",
    "for sublist in Mets:\n",
    "    Big_Mets.extend(sublist)\n",
    "iCHO2101Mets = [element.split('[]')[0] for element in Big_Mets]\n",
    "\n",
    "Mets = []\n",
    "for met in iCHO2291_Mets:\n",
    "    elements = re.findall(r'[+]+|-->|<=>|\\b\\w+\\b', met)\n",
    "    elements = [elem for elem in elements if elem not in ['+', '-->', '<=>']]\n",
    "    Mets.append(elements)\n",
    "Big_Mets = []\n",
    "for sublist in Mets:\n",
    "    Big_Mets.extend(sublist)\n",
    "iCHO2291Mets = [element.split('[')[0] for element in Big_Mets]\n"
   ]
  },
  {
   "cell_type": "code",
   "execution_count": null,
   "id": "6032a71c",
   "metadata": {},
   "outputs": [],
   "source": [
    "import itertools\n",
    "from collections import defaultdict\n",
    "\n",
    "# Initialize counters\n",
    "single_dataset_counters = {name: 0 for name in ['Recon', 'Hefzi', 'iCHO2291', 'iCHO2101']}\n",
    "all_Counter = 0\n",
    "\n",
    "datasets = {\n",
    "    'Recon': ReconMets,\n",
    "    'Hefzi': HefziMets,\n",
    "    'iCHO2291': iCHO2291Mets,\n",
    "    'iCHO2101': iCHO2101Mets\n",
    "}\n",
    "\n",
    "shared_counters = defaultdict(int)\n",
    "\n",
    "for noIDMet in empty_mets['BiGG ID']:\n",
    "    datasets_with_met = [name for name, mets in datasets.items() if noIDMet in mets]\n",
    "\n",
    "    if len(datasets_with_met) == 1:\n",
    "        single_dataset_counters[datasets_with_met[0]] += 1\n",
    "    elif 2 <= len(datasets_with_met) <= len(datasets):\n",
    "        combination = tuple(sorted(datasets_with_met))\n",
    "        shared_counters[combination] += 1\n",
    "    if len(datasets_with_met) == len(datasets):\n",
    "        all_Counter += 1\n",
    "\n",
    "for dataset, count in single_dataset_counters.items():\n",
    "    print(f\"Number of mets ONLY in {dataset}: {count}\")\n",
    "\n",
    "for combination, count in shared_counters.items():\n",
    "    print(f\"Number of mets shared ONLY by {', '.join(combination)}: {count}\")\n",
    "\n",
    "print(f\"Number of mets shared by all the models: {all_Counter}\")\n"
   ]
  },
  {
   "cell_type": "markdown",
   "id": "fa47abbf",
   "metadata": {},
   "source": [
    "<a id='information'></a>\n",
    "## 4. Statistical Analysis of the Information in the Metabolites Dataseet\n",
    "Here we will use the .txt file generated in **Final CHO Model 3.6** with information about the relevant metabolites for \"biomass\" and \"biomass_producing\" optimized models. The list of metabolites provided will be used to estimate the amount of total metabolites that it represents in our reconstruction and how much missed information do we have for those metabolites."
   ]
  },
  {
   "cell_type": "code",
   "execution_count": null,
   "id": "de974ee0",
   "metadata": {},
   "outputs": [],
   "source": [
    "import pandas as pd\n",
    "import numpy as np\n",
    "\n",
    "import matplotlib.pyplot as plt\n",
    "from matplotlib.ticker import PercentFormatter\n",
    "from skimage import draw\n",
    "from wordcloud import WordCloud\n",
    "from collections import Counter\n",
    "\n",
    "from cobra import Model, Reaction, Metabolite\n",
    "from tqdm.notebook import tqdm"
   ]
  },
  {
   "cell_type": "markdown",
   "id": "b6d25abf",
   "metadata": {},
   "source": [
    "### 4.1 Calculate the missing Information for Relevant Metabolites"
   ]
  },
  {
   "cell_type": "code",
   "execution_count": null,
   "id": "78b319e7-a865-4bc4-af08-afe93046a4e4",
   "metadata": {},
   "outputs": [],
   "source": [
    "##### ----- Read iCHO3K reaction files ----- #####\n",
    "\n",
    "#Path to iCHO3K Excell\n",
    "FILE_PATH = '../../iCHO3K/Dataset/iCHO3K.xlsx'\n",
    "\n",
    "\n",
    "# Sheets\n",
    "sheet_met = 'Metabolites'\n",
    "sheet_rxns = 'Rxns'\n",
    "sheet_attributes = 'Attributes'\n",
    "\n",
    "# Read into DataFrames\n",
    "metabolites      = pd.read_excel(FILE_PATH, sheet_name=sheet_met)\n",
    "rxns             = pd.read_excel(FILE_PATH, sheet_name=sheet_rxns)\n",
    "rxns_attributes  = pd.read_excel(FILE_PATH, sheet_name=sheet_attributes)"
   ]
  },
  {
   "cell_type": "code",
   "execution_count": null,
   "id": "34f74863",
   "metadata": {},
   "outputs": [],
   "source": [
    "## ---- Generate a df of Relevant Metabolites ---- ##\n",
    "rel_mets = pd.read_csv('../../Data/Metabolites/metabolites.txt', sep=' ', header=None)\n",
    "rel_mets_list = list(rel_mets[0])\n",
    "rel_mets_df = metabolites[metabolites['BiGG ID'].isin(rel_mets_list)].copy()\n",
    "non_rel_mets_df = metabolites[~metabolites['BiGG ID'].isin(rel_mets_list)].copy()"
   ]
  },
  {
   "cell_type": "code",
   "execution_count": null,
   "id": "1983132c",
   "metadata": {},
   "outputs": [],
   "source": [
    "# Calculate the percentage of Relevant Metabolites with and without Info \n",
    "info = []\n",
    "no_info = []\n",
    "for i,m in rel_mets_df.iterrows():\n",
    "    if (m['PubChem']!='NaN' or m['Inchi']!='NaN' or m['SMILES']!='NaN'):\n",
    "        info.append(m['BiGG ID'])\n",
    "    if (m['PubChem']=='NaN' and m['Inchi']=='NaN' and m['SMILES']=='NaN'):\n",
    "        no_info.append(m['BiGG ID'])\n",
    "        \n",
    "print(f'Percentage of metabolites with info: {len(info)/len(rel_mets_list)*100}%')\n",
    "print(f'Percentage of metabolites with no info: {len(no_info)/len(rel_mets_list)*100}%')"
   ]
  },
  {
   "cell_type": "code",
   "execution_count": null,
   "id": "9d08d969",
   "metadata": {},
   "outputs": [],
   "source": [
    "# Plot the results\n",
    "\n",
    "# The sizes of the lists\n",
    "size_A = len(rel_mets_list)\n",
    "size_B = len(info)\n",
    "size_C = len(no_info)\n",
    "\n",
    "# Calculate the percentages\n",
    "percentage_B = size_B / size_A * 100\n",
    "percentage_C = size_C / size_A * 100\n",
    "\n",
    "# Create a bar plot with a tall and thin bar\n",
    "plt.figure(figsize=(1,8))  # Adjust the size of the plot. Increase the second number to make it taller\n",
    "plt.bar(1, percentage_B, color='blue', label='Mets. with Info', width=0.1)  # Decrease the width to make the bar thinner\n",
    "plt.bar(1, percentage_C, bottom=percentage_B, color='green', label='Mets. with No Info', width=0.1)\n",
    "\n",
    "# Set the labels and title\n",
    "plt.ylabel('Percentage of Metabolites')\n",
    "plt.xticks([])  # Hide x ticks\n",
    "plt.yticks(np.arange(0, 101, 20))  # Set the y ticks\n",
    "plt.gca().yaxis.set_major_formatter(PercentFormatter())  # Format the y ticks as percentages\n",
    "plt.ylim([0, 100])  # Set the y limit\n",
    "plt.box(False)  # Remove the box around the plot\n",
    "plt.legend(loc='upper right', bbox_to_anchor=(2.3, 1.13))  # Move the legend to the upper right corner\n",
    "\n",
    "# Save and Show the plot\n",
    "#plt.savefig('percentage_relevant_mets.png', dpi=300, bbox_inches='tight')\n",
    "plt.show()"
   ]
  },
  {
   "cell_type": "markdown",
   "id": "a261d49f",
   "metadata": {},
   "source": [
    "### 3.2 Plot the percentage of the total metabolites comprised by the relevant metabolites"
   ]
  },
  {
   "cell_type": "code",
   "execution_count": null,
   "id": "f1b9464a",
   "metadata": {},
   "outputs": [],
   "source": [
    "# Plot the results\n",
    "\n",
    "# The sizes of the lists\n",
    "size_A = len(list(metabolites['BiGG ID']))\n",
    "size_B = len(list(rel_mets_df['BiGG ID']))\n",
    "size_C = len(list(non_rel_mets_df['BiGG ID']))\n",
    "\n",
    "# Calculate the percentages\n",
    "percentage_B = size_B / size_A * 100\n",
    "percentage_C = size_C / size_A * 100\n",
    "\n",
    "# Create a bar plot with a tall and thin bar\n",
    "plt.figure(figsize=(1,8))  # Adjust the size of the plot. Increase the second number to make it taller\n",
    "plt.bar(1, percentage_B, color='blue', label='Relevant Mets.', width=0.1)  # Decrease the width to make the bar thinner\n",
    "plt.bar(1, percentage_C, bottom=percentage_B, color='gold', label='Rest of the dataset', width=0.1)\n",
    "\n",
    "# Set the labels and title\n",
    "plt.ylabel('Percentage of Metabolites')\n",
    "plt.xticks([])  # Hide x ticks\n",
    "plt.yticks(np.arange(0, 101, 20))  # Set the y ticks\n",
    "plt.gca().yaxis.set_major_formatter(PercentFormatter())  # Format the y ticks as percentages\n",
    "plt.ylim([0, 100])  # Set the y limit\n",
    "plt.box(False)  # Remove the box around the plot\n",
    "plt.legend(loc='upper right', bbox_to_anchor=(2.3, 1.13))  # Move the legend to the upper right corner\n",
    "\n",
    "# Save and Show the plot\n",
    "print(percentage_B)\n",
    "print(percentage_C)\n",
    "plt.savefig('../../Analyses/Relevant_mets/percentage_relevant_mets.png', dpi=300, bbox_inches='tight')\n",
    "plt.show()"
   ]
  },
  {
   "cell_type": "code",
   "execution_count": null,
   "id": "076a3845",
   "metadata": {},
   "outputs": [],
   "source": [
    "# Calculate the percentage of Relevant Metabolites with and without Info \n",
    "info2 = []\n",
    "no_info2 = []\n",
    "for i,m in non_rel_mets_df.iterrows():\n",
    "    if (m['PubChem']!='NaN' or m['Inchi']!='NaN' or m['SMILES']!='NaN'):\n",
    "        info2.append(m['BiGG ID'])\n",
    "    if (m['PubChem']=='NaN' and m['Inchi']=='NaN' and m['SMILES']=='NaN'):\n",
    "        no_info2.append(m['BiGG ID'])\n",
    "        \n",
    "print(f'Percentage of metabolites with info: {len(info2)/len(non_rel_mets_df)*100}%')\n",
    "print(f'Percentage of metabolites with no info: {len(no_info2)/len(non_rel_mets_df)*100}%')"
   ]
  },
  {
   "cell_type": "code",
   "execution_count": null,
   "id": "c8d377f5",
   "metadata": {},
   "outputs": [],
   "source": [
    "len(info2)"
   ]
  },
  {
   "cell_type": "markdown",
   "id": "836fa3aa",
   "metadata": {},
   "source": [
    "### 3.3 Subsystems"
   ]
  },
  {
   "cell_type": "code",
   "execution_count": null,
   "id": "a09f103f",
   "metadata": {},
   "outputs": [],
   "source": [
    "##### ----- Create a model and add reactions ----- #####\n",
    "model = Model(\"iCHO\")\n",
    "lr = []\n",
    "for _, row in rxns.iterrows():\n",
    "    r = Reaction(row['Reaction'])\n",
    "    lr.append(r)    \n",
    "model.add_reactions(lr)\n",
    "model"
   ]
  },
  {
   "cell_type": "code",
   "execution_count": null,
   "id": "e77a33cb",
   "metadata": {
    "tags": []
   },
   "outputs": [],
   "source": [
    "##### ----- Add information to each one of the reactions ----- #####\n",
    "for i,r in enumerate(tqdm(model.reactions)):\n",
    "    print(r.id)\n",
    "    r.build_reaction_from_string(rxns['Reaction Formula'][i])\n",
    "    r.name = rxns['Reaction Name'][i]\n",
    "    r.subsystem = rxns['Subsystem'][i]"
   ]
  },
  {
   "cell_type": "code",
   "execution_count": null,
   "id": "f07239a2",
   "metadata": {},
   "outputs": [],
   "source": [
    "# List of metabolite IDs\n",
    "\n",
    "\n",
    "subsystems_rel = []\n",
    "subsystems_info = []\n",
    "subsystems_non_info = []\n",
    "\n",
    "# Loop over the list of metabolites in the relevant metabolites list\n",
    "for met_id in rel_mets_list:\n",
    "    # Get the metabolite\n",
    "    try:\n",
    "        metabolite = model.metabolites.get_by_id(met_id)\n",
    "    except KeyError:\n",
    "        print(f'Metabolite {met_id} not in the model')\n",
    "    \n",
    "    # Get the reactions involving this metabolite\n",
    "    reactions = metabolite.reactions\n",
    "\n",
    "    # Add the subsystems for these reactions to our set\n",
    "    for r in reactions:\n",
    "        subsystems_rel.append(r.subsystem)\n",
    "\n",
    "subs_rel_freq = Counter(subsystems_rel)\n",
    "subs_rel_freq = Counter({key: subs_rel_freq[key] for key in subs_rel_freq if 'TRANSPORT' not in key})\n",
    "subs_rel_freq = Counter({key: subs_rel_freq[key] for key in subs_rel_freq if 'EXCHANGE' not in key})\n",
    "\n",
    "\n",
    "# Loop over the list of metabolites in the metabolites with information\n",
    "for met_id in info2:\n",
    "    # Get the metabolite\n",
    "    try:\n",
    "        metabolite = model.metabolites.get_by_id(met_id)\n",
    "    except KeyError:\n",
    "        print(f'Metabolite {met_id} not in the model')\n",
    "    \n",
    "    # Get the reactions involving this metabolite\n",
    "    reactions = metabolite.reactions\n",
    "\n",
    "    # Add the subsystems for these reactions to our set\n",
    "    for r in reactions:\n",
    "        subsystems_info.append(r.subsystem)\n",
    "\n",
    "subs_info_freq = Counter(subsystems_info)\n",
    "subs_info_freq = Counter({key: subs_info_freq[key] for key in subs_info_freq if 'TRANSPORT' not in key})\n",
    "subs_info_freq = Counter({key: subs_info_freq[key] for key in subs_info_freq if 'EXCHANGE' not in key})\n",
    "\n",
    "\n",
    "# Loop over the list of metabolites in the metabolites with no information\n",
    "for met_id in no_info2:\n",
    "    # Get the metabolite\n",
    "    try:\n",
    "        metabolite = model.metabolites.get_by_id(met_id)\n",
    "    except KeyError:\n",
    "        print(f'Metabolite {met_id} not in the model')\n",
    "    \n",
    "    # Get the reactions involving this metabolite\n",
    "    reactions = metabolite.reactions\n",
    "\n",
    "    # Add the subsystems for these reactions to our set\n",
    "    for r in reactions:\n",
    "        subsystems_non_info.append(r.subsystem)\n",
    "\n",
    "subs_non_info_freq = Counter(subsystems_non_info)\n",
    "subs_non_info_freq = Counter({key: subs_non_info_freq[key] for key in subs_non_info_freq if 'TRANSPORT' not in key})\n",
    "subs_non_info_freq = Counter({key: subs_non_info_freq[key] for key in subs_non_info_freq if 'EXCHANGE' not in key})"
   ]
  },
  {
   "cell_type": "code",
   "execution_count": null,
   "id": "9e00f46c",
   "metadata": {},
   "outputs": [],
   "source": [
    "#subs_rel_freq\n",
    "#subs_info_freq\n",
    "#subs_non_info_freq"
   ]
  },
  {
   "cell_type": "code",
   "execution_count": null,
   "id": "e6514541",
   "metadata": {},
   "outputs": [],
   "source": [
    "mets_with_info = subs_rel_freq + subs_info_freq\n",
    "C3 = Counter({key: mets_with_info[key] for key in mets_with_info if key not in subs_non_info_freq})\n",
    "C3"
   ]
  },
  {
   "cell_type": "code",
   "execution_count": null,
   "id": "7f233146",
   "metadata": {},
   "outputs": [],
   "source": [
    "#Plot\n",
    "\n",
    "radius = 500  # you can change to the size you need\n",
    "circle_img = np.zeros((2*radius, 2*radius), np.uint8)\n",
    "rr, cc = draw.disk((radius, radius), radius)\n",
    "circle_img[rr, cc] = 1\n",
    "\n",
    "# Create the word cloud\n",
    "wordcloud = WordCloud(width = 1000, height = 500, mask=circle_img, background_color=\"rgba(255, 255, 255, 0)\", mode=\"RGBA\").generate_from_frequencies(C3)\n",
    "\n",
    "plt.figure(figsize=(8,8))\n",
    "plt.imshow(wordcloud, interpolation='bilinear')\n",
    "plt.axis(\"off\")\n",
    "\n",
    "plt.savefig('../../Analyses/Relevant_mets/wordcloud.png', bbox_inches='tight', transparent=True, pad_inches=0)\n",
    "plt.show()"
   ]
  },
  {
   "cell_type": "code",
   "execution_count": null,
   "id": "0a01e1e2-f70d-4906-8a60-9bc056887b5e",
   "metadata": {},
   "outputs": [],
   "source": []
  }
 ],
 "metadata": {
  "kernelspec": {
   "display_name": "Python 3 (ipykernel)",
   "language": "python",
   "name": "python3"
  },
  "language_info": {
   "codemirror_mode": {
    "name": "ipython",
    "version": 3
   },
   "file_extension": ".py",
   "mimetype": "text/x-python",
   "name": "python",
   "nbconvert_exporter": "python",
   "pygments_lexer": "ipython3",
   "version": "3.10.8"
  }
 },
 "nbformat": 4,
 "nbformat_minor": 5
}
