{
 "cells": [
  {
   "cell_type": "markdown",
   "id": "57a5e96e",
   "metadata": {},
   "source": [
    "# Genes\n",
    "The following notebook retrieves all the genes involved in the reactions from the **\"Rxns\" Sheet** in Google Sheet file. Then, information regarding the genes is retrieved from different databases and a **\"Genes\" Sheet** is generated and updated."
   ]
  },
  {
   "cell_type": "code",
   "execution_count": null,
   "id": "08228a07",
   "metadata": {},
   "outputs": [],
   "source": [
    "import pandas as pd\n",
    "import numpy as np\n",
    "import time\n",
    "from tqdm.notebook import tqdm\n",
    "\n",
    "import sys, os\n",
    "sys.path.append(os.path.abspath(\"..\"))\n",
    "from Utils.utils import get_gene_info"
   ]
  },
  {
   "cell_type": "markdown",
   "id": "ac38d2d7",
   "metadata": {},
   "source": [
    "### 1.Generate \"rxns\" and \"genes\" datasets\n",
    "The \"rxns\" dataset contains all the reactions with their GPR associations. The \"genes\" dataset contains all the information of the genes/GPR involved in our reconstruction."
   ]
  },
  {
   "cell_type": "code",
   "execution_count": null,
   "id": "19d8026b",
   "metadata": {},
   "outputs": [],
   "source": [
    "##### ----- Read iCHO3K reaction files ----- #####\n",
    "\n",
    "#Path to iCHO3K Excell\n",
    "FILE_PATH = '../../iCHO3K/Dataset/iCHO3K.xlsx'\n",
    "\n",
    "\n",
    "# Sheets\n",
    "sheet_rxns = 'Rxns'\n",
    "sheet_genes = 'Genes'\n",
    "\n",
    "# Read into DataFrames\n",
    "rxns             = pd.read_excel(FILE_PATH, sheet_name=sheet_rxns)\n",
    "genes            = pd.read_excel(FILE_PATH, sheet_name=sheet_genes)"
   ]
  },
  {
   "cell_type": "code",
   "execution_count": null,
   "id": "20748fad-9a63-4ff6-9297-bc63083e43bd",
   "metadata": {},
   "outputs": [],
   "source": [
    "gene_sheet_list = list(genes['Gene Entrez ID'])\n",
    "gene_sheet_list_int = list(map(int, gene_sheet_list))"
   ]
  },
  {
   "cell_type": "markdown",
   "id": "de13c811",
   "metadata": {},
   "source": [
    "### 2. Create the a \"gene_list\" with all the genes involved in our reconstruction\n",
    "We extract the gene IDs from the GPR annotations in the **\"rxns\" df**. This information is only retrieved from the **GPR_final** column."
   ]
  },
  {
   "cell_type": "code",
   "execution_count": null,
   "id": "b0f61d39",
   "metadata": {},
   "outputs": [],
   "source": [
    "# Generation of gene_list from all the genes in the \"Whole Cell Network Reconstruction in CHO Cells\" dataset\n",
    "import re\n",
    "\n",
    "gene_list = []\n",
    "human_gene_list = []\n",
    "for index, row in rxns.iterrows():\n",
    "    if row['GPR_final'] != '':\n",
    "        gprs = str(row['GPR_final'])\n",
    "        gpr = re.findall(r'\\b[hH]?\\d+\\b', gprs)\n",
    "        for g in gpr:\n",
    "            if g.lower().startswith('h'):  # we convert to lower case to catch both 'h' and 'H'\n",
    "                human_gene_list.append(int(g[1:]))  # remove 'h' and convert to int before appending\n",
    "            else:\n",
    "                gene_list.append(int(g))  # convert to int before appending\n",
    "\n",
    "gene_list = list(set(gene_list))\n",
    "len(gene_list)"
   ]
  },
  {
   "cell_type": "code",
   "execution_count": null,
   "id": "e0864863-033e-4a9a-a775-2faaa0bfc2a7",
   "metadata": {},
   "outputs": [],
   "source": [
    "set1 = set(gene_sheet_list_int)\n",
    "set2 = set(gene_list)\n",
    "\n",
    "# Find elements unique to each list\n",
    "unique_to_list1 = set1 - set2\n",
    "unique_to_list2 = set2 - set1\n",
    "\n",
    "# Optionally, combine the unique elements\n",
    "unique_elements = unique_to_list1.union(unique_to_list2)\n",
    "\n",
    "# Output the results\n",
    "print(f\"Elements unique to list1: {unique_to_list1}\")\n",
    "print(f\"Elements unique to list2: {unique_to_list2}\")"
   ]
  },
  {
   "cell_type": "markdown",
   "id": "e9c5c853",
   "metadata": {},
   "source": [
    "### 3. Replace remaining Human Gene IDs in our dataset with CHO Gene IDs\n",
    "Using the **cho2human_mapping** file, we replace the Human gene IDs with those of CHO, these IDs were not spotted when we first added the Recon3D reactions."
   ]
  },
  {
   "cell_type": "code",
   "execution_count": null,
   "id": "fd3c0d42",
   "metadata": {},
   "outputs": [],
   "source": [
    "# Build a dictionary with human gene IDs as keys and CHO gene IDs as values\n",
    "orthologs = pd.read_csv('../../Data/Orthologs/cho2human_mapping.tsv', sep='\\t')\n",
    "human_to_cho_dict = dict(zip(orthologs['HUMAN_ID'], orthologs['CHO_ID']))\n",
    "\n",
    "def replace_human_ids_with_cho_ids(s):\n",
    "    replaced_dict = {}\n",
    "    if isinstance(s, str):\n",
    "        genes = re.findall(r'\\b[hH]?\\d+\\b', s)\n",
    "        for gene in genes:\n",
    "            if gene.lower().startswith('h'):  # if gene ID starts with 'h' or 'H'\n",
    "                human_id = int(gene[1:])  # remove 'h' and convert to int\n",
    "                if human_id in human_to_cho_dict:  # if human gene ID is in the dictionary\n",
    "                    cho_id = human_to_cho_dict[human_id]  # get corresponding CHO gene ID\n",
    "                    s = s.replace(gene, str(cho_id))  # replace human gene ID with CHO gene ID in the string\n",
    "                    replaced_dict[gene] = cho_id\n",
    "    return s, replaced_dict\n",
    "\n",
    "# Initialize a dictionary to store replacements\n",
    "replacements = {}\n",
    "\n",
    "# Apply the function and update the replacements dictionary\n",
    "for i in range(len(rxns)):\n",
    "    rxns.at[i, 'GPR_final'], replacements_dict = replace_human_ids_with_cho_ids(rxns.at[i, 'GPR_final'])\n",
    "    replacements.update(replacements_dict)\n",
    "\n",
    "# Now, 'replacements' is a dictionary where keys are the original gene IDs and values are the replaced CHO gene IDs\n",
    "replacements"
   ]
  },
  {
   "cell_type": "markdown",
   "id": "ed00e36d",
   "metadata": {},
   "source": [
    "### 3. Add the genes from the \"gene_list\" to the genes df\n",
    "Using a list of all the genes included in the dataset we can retrieve information from the NIH database regarding Gene Symbol, Gene Name, Gene Ensembl ID, and mRNA ID and protein ID using the function get_gene_info()."
   ]
  },
  {
   "cell_type": "code",
   "execution_count": null,
   "id": "236d1799",
   "metadata": {},
   "outputs": [],
   "source": [
    "# Need to provide a valid email address for this code to run\n",
    "email = \"\"\n",
    "\n",
    "import time\n",
    "from urllib.error import HTTPError\n",
    "from Bio.Entrez.Parser import ValidationError\n",
    "\n",
    "max_retries = 5  # Set the maximum number of retries\n",
    "c = 0\n",
    "\n",
    "for g in tqdm(gene_list):\n",
    "    if str(g) not in list(genes['Gene Entrez ID']):\n",
    "        retry = True\n",
    "        retries = 0\n",
    "        while retry:\n",
    "            try:\n",
    "                print(g)\n",
    "                organism, gene_symbol, gene_name, gene_description, picr_ensembl_id, chok1gs_ensembl_id, mRNA_ncbi_id, protein_ncbi_id, go_terms = get_gene_info(g, email)\n",
    "                if organism == 'Cricetulus griseus':\n",
    "                    new_row_data = {'Gene Entrez ID': g, 'Gene Symbol': gene_symbol, 'Gene Name': gene_name, 'Gene Description': gene_description,\n",
    "                                    'PICR Ensembl ID': picr_ensembl_id, 'CHOK1GS Ensembl ID': chok1gs_ensembl_id, 'Transcript ID': mRNA_ncbi_id,\n",
    "                                    'Protein ID': protein_ncbi_id, 'GO Terms': go_terms}\n",
    "                    new_row_df = pd.DataFrame(new_row_data, index=[len(genes)])\n",
    "                    genes = pd.concat([genes, new_row_df])\n",
    "                    c+=1\n",
    "                    retry = False\n",
    "                elif organism != 'Cricetulus griseus':\n",
    "                    print(f'Gene {g,gene_symbol} is a {organism} Gene')\n",
    "                    break\n",
    "            except ValidationError:\n",
    "                print(f'Gene {g} not found')\n",
    "                retry = False\n",
    "                continue\n",
    "            except HTTPError:\n",
    "                retries += 1\n",
    "                if retries > max_retries:\n",
    "                    print(f'HTTP Error, reached maximum retries ({max_retries}) for gene {g}')\n",
    "                    break\n",
    "                else:\n",
    "                    print(f'HTTP Error, retrying with gene {g}')\n",
    "                    time.sleep(1)\n",
    "                    \n",
    "print(f'A total of {c} Genes were added to the dataset')"
   ]
  },
  {
   "cell_type": "markdown",
   "id": "c2218925",
   "metadata": {},
   "source": [
    "### 4. Eliminate unwanted genes\n",
    "We iterate over the entire dataset to spot **Human genes** in order to eliminate them"
   ]
  },
  {
   "cell_type": "code",
   "execution_count": null,
   "id": "d90b73a7-c9ae-4113-b092-3edc2bbe65d2",
   "metadata": {},
   "outputs": [],
   "source": [
    "# Make a copy of the DataFrame to avoid changing the original while iterating\n",
    "erased = 0\n",
    "genes_copy = genes.copy()"
   ]
  },
  {
   "cell_type": "code",
   "execution_count": null,
   "id": "b810d3c0",
   "metadata": {},
   "outputs": [],
   "source": [
    "for index, row in tqdm(genes.iterrows(), total=genes.shape[0]):\n",
    "    g = row['Gene Entrez ID']\n",
    "    retry = True\n",
    "    retries = 0\n",
    "    while retry:\n",
    "        try:\n",
    "            organism, gene_symbol, gene_name, gene_description, picr_ensembl_id, chok1gs_ensembl_id, mRNA_ncbi_id, protein_ncbi_id, go_terms = get_gene_info(g, email)\n",
    "            if organism == 'Homo sapiens':\n",
    "                genes_copy = genes_copy.drop(index)\n",
    "                print(f'Gene {g,gene_symbol} erased from dataset')\n",
    "                erased+=1\n",
    "                retry = False\n",
    "            else:\n",
    "                retry = False\n",
    "        except ValidationError:\n",
    "            print(f'Gene {g} not found')\n",
    "            retry = False\n",
    "            continue\n",
    "        except HTTPError:\n",
    "            retries += 1\n",
    "            if retries > max_retries:\n",
    "                print(f'HTTP Error, reached maximum retries ({max_retries}) for gene {g}')\n",
    "                break\n",
    "            else:\n",
    "                print(f'HTTP Error, retrying with gene {g}')\n",
    "                time.sleep(1)\n",
    "\n",
    "# Replace the original DataFrame with the updated one\n",
    "print(f'A total of {erased} Human Genes were identifed from the original dataset')"
   ]
  },
  {
   "cell_type": "markdown",
   "id": "29b273fb-3d07-4286-9937-0ee4af7136ed",
   "metadata": {},
   "source": [
    "### 5. Eliminate genes that are not in the model\n",
    "Next, we make sure that the genes in the **GPR_final** column of the Reactions Sheet matches those of the **Gene Entrez ID** column of the Genes Sheet. If there are genes in the Genes Sheet that are not in the **GPR_final** column of th Reactions Sheet, we eliminate them."
   ]
  },
  {
   "cell_type": "code",
   "execution_count": null,
   "id": "abd8d332-e943-43e9-a764-f1b2f8571066",
   "metadata": {
    "scrolled": true
   },
   "outputs": [],
   "source": [
    "for index, row in genes_copy.iterrows():\n",
    "    g = int(row['Gene Entrez ID'])\n",
    "    if g not in gene_list:\n",
    "        genes_copy = genes_copy.drop(index)\n",
    "        erased+=1\n",
    "        print(g)\n",
    "    \n",
    "\n",
    "# Replace the original DataFrame with the updated one\n",
    "print(f'A total of {erased} Genes were erased from the original dataset')"
   ]
  },
  {
   "cell_type": "code",
   "execution_count": null,
   "id": "ae91d4d5-c76a-46df-b718-62c6bbb2cb34",
   "metadata": {},
   "outputs": [],
   "source": [
    "genes = genes_copy"
   ]
  },
  {
   "cell_type": "code",
   "execution_count": null,
   "id": "0c193455-c5ee-4039-8681-2326b2e5d0b1",
   "metadata": {
    "scrolled": true
   },
   "outputs": [],
   "source": [
    "### Compare Genes Sheet with Rxns Sheet to make sure we have the same gene IDs in both datasets\n",
    "genes_sheet_list = list(genes['Gene Entrez ID'])\n",
    "genes_sheet_list = [int(item) for item in genes_sheet_list]\n",
    "genes_sheet_list = set(genes_sheet_list)\n",
    "gene_list = set(gene_list)\n",
    "\n",
    "# Find elements in list_a but not in list_b\n",
    "missing_in_genes_sheet = gene_list - genes_sheet_list\n",
    "print(\"Missing in Genes Sheet:\", missing_in_genes_sheet)\n",
    "\n",
    "# Find elements in list_b but not in list_a\n",
    "missing_in_rxns_sheet = genes_sheet_list - gene_list\n",
    "print(\"Missing in Rxns Sheet:\", missing_in_rxns_sheet)"
   ]
  },
  {
   "cell_type": "code",
   "execution_count": null,
   "id": "78ad9748-4b61-4a17-9cad-edeb9d16bf28",
   "metadata": {},
   "outputs": [],
   "source": [
    "def find_duplicates(lst):\n",
    "    seen = set()\n",
    "    duplicates = set()\n",
    "    for item in lst:\n",
    "        if item in seen:\n",
    "            duplicates.add(item)\n",
    "        else:\n",
    "            seen.add(item)\n",
    "    return duplicates\n",
    "\n",
    "# Example usage:\n",
    "my_list = list(genes['Gene Entrez ID'])\n",
    "print(find_duplicates(my_list))  # Shows the duplicated items"
   ]
  }
 ],
 "metadata": {
  "kernelspec": {
   "display_name": "Python 3 (ipykernel)",
   "language": "python",
   "name": "python3"
  },
  "language_info": {
   "codemirror_mode": {
    "name": "ipython",
    "version": 3
   },
   "file_extension": ".py",
   "mimetype": "text/x-python",
   "name": "python",
   "nbconvert_exporter": "python",
   "pygments_lexer": "ipython3",
   "version": "3.10.8"
  },
  "toc": {
   "base_numbering": 1,
   "nav_menu": {},
   "number_sections": true,
   "sideBar": true,
   "skip_h1_title": false,
   "title_cell": "Table of Contents",
   "title_sidebar": "Contents",
   "toc_cell": false,
   "toc_position": {},
   "toc_section_display": true,
   "toc_window_display": false
  }
 },
 "nbformat": 4,
 "nbformat_minor": 5
}
