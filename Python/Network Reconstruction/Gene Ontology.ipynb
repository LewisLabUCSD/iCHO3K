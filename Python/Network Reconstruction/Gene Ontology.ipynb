{
 "cells": [
  {
   "cell_type": "code",
   "execution_count": null,
   "id": "58a76d63",
   "metadata": {},
   "outputs": [],
   "source": [
    "import pandas as pd"
   ]
  },
  {
   "cell_type": "code",
   "execution_count": null,
   "id": "8c79b944",
   "metadata": {},
   "outputs": [],
   "source": [
    "go = pd.read_csv('../Data/mart_GO.txt', header = 0)"
   ]
  },
  {
   "cell_type": "code",
   "execution_count": null,
   "id": "76a918a8",
   "metadata": {},
   "outputs": [],
   "source": [
    "go"
   ]
  },
  {
   "cell_type": "code",
   "execution_count": null,
   "id": "3c3ae994",
   "metadata": {},
   "outputs": [],
   "source": [
    "# Group the data by the gene ensembl ID\n",
    "grouped = go.groupby('Gene stable ID')['GO term accession'].agg(list)\n",
    "# Create dictionary from grouped, combining lists\n",
    "go_dict = {k: v for k, v in grouped.items()}"
   ]
  },
  {
   "cell_type": "code",
   "execution_count": null,
   "id": "2cc255d3",
   "metadata": {},
   "outputs": [],
   "source": [
    "go_dict"
   ]
  },
  {
   "cell_type": "code",
   "execution_count": null,
   "id": "5582d9d5",
   "metadata": {},
   "outputs": [],
   "source": [
    "homologs = pd.read_excel('../Data/GPR_Curation/orthologs.xlsx', header = 0, index_col=0)\n",
    "homologs['Human GeneID'] = homologs['Human GeneID'].astype(str).replace('\\.0', '', regex=True)\n",
    "homologs"
   ]
  },
  {
   "cell_type": "code",
   "execution_count": null,
   "id": "5464d477",
   "metadata": {},
   "outputs": [],
   "source": [
    "homologs['GO_ids'] = homologs['CHO Ensembl ID'].map(go_dict)"
   ]
  },
  {
   "cell_type": "code",
   "execution_count": null,
   "id": "86a467dc",
   "metadata": {},
   "outputs": [],
   "source": [
    "homologs.to_csv('orthologs&GO.txt')"
   ]
  },
  {
   "cell_type": "code",
   "execution_count": null,
   "id": "3b447f45",
   "metadata": {},
   "outputs": [],
   "source": [
    "homologs"
   ]
  }
 ],
 "metadata": {
  "kernelspec": {
   "display_name": "Python 3 (ipykernel)",
   "language": "python",
   "name": "python3"
  },
  "language_info": {
   "codemirror_mode": {
    "name": "ipython",
    "version": 3
   },
   "file_extension": ".py",
   "mimetype": "text/x-python",
   "name": "python",
   "nbconvert_exporter": "python",
   "pygments_lexer": "ipython3",
   "version": "3.10.8"
  }
 },
 "nbformat": 4,
 "nbformat_minor": 5
}
